{
 "cells": [
  {
   "cell_type": "code",
   "execution_count": 2,
   "metadata": {},
   "outputs": [],
   "source": [
    "import pandas as pa \n",
    "import pylab as pl "
   ]
  },
  {
   "cell_type": "code",
   "execution_count": 3,
   "metadata": {},
   "outputs": [],
   "source": [
    "T = pa.read_csv('stations_service.csv')"
   ]
  },
  {
   "cell_type": "code",
   "execution_count": 29,
   "metadata": {},
   "outputs": [],
   "source": [
    "T1 = T.query('nom == \"Intermarché\"')"
   ]
  },
  {
   "cell_type": "code",
   "execution_count": 25,
   "metadata": {},
   "outputs": [
    {
     "data": {
      "text/html": [
       "<div>\n",
       "<style scoped>\n",
       "    .dataframe tbody tr th:only-of-type {\n",
       "        vertical-align: middle;\n",
       "    }\n",
       "\n",
       "    .dataframe tbody tr th {\n",
       "        vertical-align: top;\n",
       "    }\n",
       "\n",
       "    .dataframe thead th {\n",
       "        text-align: right;\n",
       "    }\n",
       "</style>\n",
       "<table border=\"1\" class=\"dataframe\">\n",
       "  <thead>\n",
       "    <tr style=\"text-align: right;\">\n",
       "      <th></th>\n",
       "      <th>dept</th>\n",
       "      <th>nom</th>\n",
       "      <th>Gazole</th>\n",
       "      <th>SP98</th>\n",
       "      <th>SP95_E10</th>\n",
       "      <th>SP95</th>\n",
       "      <th>lat</th>\n",
       "      <th>lon</th>\n",
       "    </tr>\n",
       "  </thead>\n",
       "  <tbody>\n",
       "  </tbody>\n",
       "</table>\n",
       "</div>"
      ],
      "text/plain": [
       "Empty DataFrame\n",
       "Columns: [dept, nom, Gazole, SP98, SP95_E10, SP95, lat, lon]\n",
       "Index: []"
      ]
     },
     "execution_count": 25,
     "metadata": {},
     "output_type": "execute_result"
    }
   ],
   "source": [
    "T1"
   ]
  },
  {
   "cell_type": "code",
   "execution_count": 17,
   "metadata": {},
   "outputs": [
    {
     "data": {
      "text/html": [
       "<div>\n",
       "<style scoped>\n",
       "    .dataframe tbody tr th:only-of-type {\n",
       "        vertical-align: middle;\n",
       "    }\n",
       "\n",
       "    .dataframe tbody tr th {\n",
       "        vertical-align: top;\n",
       "    }\n",
       "\n",
       "    .dataframe thead th {\n",
       "        text-align: right;\n",
       "    }\n",
       "</style>\n",
       "<table border=\"1\" class=\"dataframe\">\n",
       "  <thead>\n",
       "    <tr style=\"text-align: right;\">\n",
       "      <th></th>\n",
       "      <th>Gazole</th>\n",
       "      <th>SP98</th>\n",
       "      <th>SP95_E10</th>\n",
       "      <th>SP95</th>\n",
       "      <th>lat</th>\n",
       "      <th>lon</th>\n",
       "    </tr>\n",
       "  </thead>\n",
       "  <tbody>\n",
       "    <tr>\n",
       "      <th>count</th>\n",
       "      <td>9690.000000</td>\n",
       "      <td>7914.000000</td>\n",
       "      <td>6510.000000</td>\n",
       "      <td>4829.000000</td>\n",
       "      <td>9716.000000</td>\n",
       "      <td>9716.000000</td>\n",
       "    </tr>\n",
       "    <tr>\n",
       "      <th>mean</th>\n",
       "      <td>1.453131</td>\n",
       "      <td>1.612239</td>\n",
       "      <td>1.523681</td>\n",
       "      <td>1.564576</td>\n",
       "      <td>46.703576</td>\n",
       "      <td>2.674594</td>\n",
       "    </tr>\n",
       "    <tr>\n",
       "      <th>std</th>\n",
       "      <td>0.081653</td>\n",
       "      <td>0.076966</td>\n",
       "      <td>0.077274</td>\n",
       "      <td>0.069923</td>\n",
       "      <td>2.268706</td>\n",
       "      <td>2.855407</td>\n",
       "    </tr>\n",
       "    <tr>\n",
       "      <th>min</th>\n",
       "      <td>0.489000</td>\n",
       "      <td>1.300000</td>\n",
       "      <td>1.359000</td>\n",
       "      <td>1.420000</td>\n",
       "      <td>41.390553</td>\n",
       "      <td>-4.722906</td>\n",
       "    </tr>\n",
       "    <tr>\n",
       "      <th>25%</th>\n",
       "      <td>1.396000</td>\n",
       "      <td>1.558000</td>\n",
       "      <td>1.465000</td>\n",
       "      <td>1.509000</td>\n",
       "      <td>44.743623</td>\n",
       "      <td>0.654857</td>\n",
       "    </tr>\n",
       "    <tr>\n",
       "      <th>50%</th>\n",
       "      <td>1.429000</td>\n",
       "      <td>1.599000</td>\n",
       "      <td>1.504000</td>\n",
       "      <td>1.555000</td>\n",
       "      <td>47.018563</td>\n",
       "      <td>2.572286</td>\n",
       "    </tr>\n",
       "    <tr>\n",
       "      <th>75%</th>\n",
       "      <td>1.499000</td>\n",
       "      <td>1.658000</td>\n",
       "      <td>1.569000</td>\n",
       "      <td>1.601000</td>\n",
       "      <td>48.699135</td>\n",
       "      <td>4.907078</td>\n",
       "    </tr>\n",
       "    <tr>\n",
       "      <th>max</th>\n",
       "      <td>4.438000</td>\n",
       "      <td>1.990000</td>\n",
       "      <td>1.949000</td>\n",
       "      <td>2.142000</td>\n",
       "      <td>51.063898</td>\n",
       "      <td>9.546689</td>\n",
       "    </tr>\n",
       "  </tbody>\n",
       "</table>\n",
       "</div>"
      ],
      "text/plain": [
       "            Gazole         SP98     SP95_E10         SP95          lat  \\\n",
       "count  9690.000000  7914.000000  6510.000000  4829.000000  9716.000000   \n",
       "mean      1.453131     1.612239     1.523681     1.564576    46.703576   \n",
       "std       0.081653     0.076966     0.077274     0.069923     2.268706   \n",
       "min       0.489000     1.300000     1.359000     1.420000    41.390553   \n",
       "25%       1.396000     1.558000     1.465000     1.509000    44.743623   \n",
       "50%       1.429000     1.599000     1.504000     1.555000    47.018563   \n",
       "75%       1.499000     1.658000     1.569000     1.601000    48.699135   \n",
       "max       4.438000     1.990000     1.949000     2.142000    51.063898   \n",
       "\n",
       "               lon  \n",
       "count  9716.000000  \n",
       "mean      2.674594  \n",
       "std       2.855407  \n",
       "min      -4.722906  \n",
       "25%       0.654857  \n",
       "50%       2.572286  \n",
       "75%       4.907078  \n",
       "max       9.546689  "
      ]
     },
     "execution_count": 17,
     "metadata": {},
     "output_type": "execute_result"
    }
   ],
   "source": [
    "T.describe()"
   ]
  },
  {
   "cell_type": "code",
   "execution_count": null,
   "metadata": {},
   "outputs": [],
   "source": [
    "#objectif rechercher dans la base de donnée comment demander unre requete ou une chaine de caractere est inclus dans  "
   ]
  }
 ],
 "metadata": {
  "kernelspec": {
   "display_name": "Python 3",
   "language": "python",
   "name": "python3"
  },
  "language_info": {
   "codemirror_mode": {
    "name": "ipython",
    "version": 3
   },
   "file_extension": ".py",
   "mimetype": "text/x-python",
   "name": "python",
   "nbconvert_exporter": "python",
   "pygments_lexer": "ipython3",
   "version": "3.7.6"
  }
 },
 "nbformat": 4,
 "nbformat_minor": 5
}
