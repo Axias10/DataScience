{
 "cells": [
  {
   "cell_type": "code",
   "execution_count": 24,
   "metadata": {},
   "outputs": [],
   "source": [
    "#Pour ouvrir des fichiers txt il faut indiquer ou son les espaces\n",
    "#pour télécharger des fichiers sur internet se placer dans le dossier et faire wget url et penser a le rename\n",
    "import pandas as pa\n",
    "import seaborn as sn \n",
    "import matplotlib.pyplot as plt\n",
    "from scipy.stats import linregress\n",
    "T = pa.read_csv('skincancer.txt',delim_whitespace = True)\n",
    "T.head()\n",
    "P = T.query(\"Ocean == 1\")"
   ]
  },
  {
   "cell_type": "code",
   "execution_count": 25,
   "metadata": {},
   "outputs": [
    {
     "data": {
      "text/html": [
       "<div>\n",
       "<style scoped>\n",
       "    .dataframe tbody tr th:only-of-type {\n",
       "        vertical-align: middle;\n",
       "    }\n",
       "\n",
       "    .dataframe tbody tr th {\n",
       "        vertical-align: top;\n",
       "    }\n",
       "\n",
       "    .dataframe thead th {\n",
       "        text-align: right;\n",
       "    }\n",
       "</style>\n",
       "<table border=\"1\" class=\"dataframe\">\n",
       "  <thead>\n",
       "    <tr style=\"text-align: right;\">\n",
       "      <th></th>\n",
       "      <th>State</th>\n",
       "      <th>Lat</th>\n",
       "      <th>Mort</th>\n",
       "      <th>Ocean</th>\n",
       "      <th>Long</th>\n",
       "    </tr>\n",
       "  </thead>\n",
       "  <tbody>\n",
       "    <tr>\n",
       "      <th>0</th>\n",
       "      <td>Alabama</td>\n",
       "      <td>33.0</td>\n",
       "      <td>219</td>\n",
       "      <td>1</td>\n",
       "      <td>87.0</td>\n",
       "    </tr>\n",
       "    <tr>\n",
       "      <th>3</th>\n",
       "      <td>California</td>\n",
       "      <td>37.5</td>\n",
       "      <td>182</td>\n",
       "      <td>1</td>\n",
       "      <td>119.5</td>\n",
       "    </tr>\n",
       "    <tr>\n",
       "      <th>5</th>\n",
       "      <td>Connecticut</td>\n",
       "      <td>41.8</td>\n",
       "      <td>159</td>\n",
       "      <td>1</td>\n",
       "      <td>72.8</td>\n",
       "    </tr>\n",
       "    <tr>\n",
       "      <th>6</th>\n",
       "      <td>Delaware</td>\n",
       "      <td>39.0</td>\n",
       "      <td>200</td>\n",
       "      <td>1</td>\n",
       "      <td>75.5</td>\n",
       "    </tr>\n",
       "    <tr>\n",
       "      <th>8</th>\n",
       "      <td>Florida</td>\n",
       "      <td>28.0</td>\n",
       "      <td>197</td>\n",
       "      <td>1</td>\n",
       "      <td>82.0</td>\n",
       "    </tr>\n",
       "    <tr>\n",
       "      <th>9</th>\n",
       "      <td>Georgia</td>\n",
       "      <td>33.0</td>\n",
       "      <td>214</td>\n",
       "      <td>1</td>\n",
       "      <td>83.5</td>\n",
       "    </tr>\n",
       "    <tr>\n",
       "      <th>16</th>\n",
       "      <td>Louisiana</td>\n",
       "      <td>31.2</td>\n",
       "      <td>190</td>\n",
       "      <td>1</td>\n",
       "      <td>91.8</td>\n",
       "    </tr>\n",
       "    <tr>\n",
       "      <th>17</th>\n",
       "      <td>Maine</td>\n",
       "      <td>45.2</td>\n",
       "      <td>117</td>\n",
       "      <td>1</td>\n",
       "      <td>69.0</td>\n",
       "    </tr>\n",
       "    <tr>\n",
       "      <th>18</th>\n",
       "      <td>Maryland</td>\n",
       "      <td>39.0</td>\n",
       "      <td>162</td>\n",
       "      <td>1</td>\n",
       "      <td>76.5</td>\n",
       "    </tr>\n",
       "    <tr>\n",
       "      <th>19</th>\n",
       "      <td>Massachusetts</td>\n",
       "      <td>42.2</td>\n",
       "      <td>143</td>\n",
       "      <td>1</td>\n",
       "      <td>71.8</td>\n",
       "    </tr>\n",
       "    <tr>\n",
       "      <th>22</th>\n",
       "      <td>Mississippi</td>\n",
       "      <td>32.8</td>\n",
       "      <td>207</td>\n",
       "      <td>1</td>\n",
       "      <td>90.0</td>\n",
       "    </tr>\n",
       "    <tr>\n",
       "      <th>27</th>\n",
       "      <td>NewHampshire</td>\n",
       "      <td>43.8</td>\n",
       "      <td>129</td>\n",
       "      <td>1</td>\n",
       "      <td>71.5</td>\n",
       "    </tr>\n",
       "    <tr>\n",
       "      <th>28</th>\n",
       "      <td>NewJersey</td>\n",
       "      <td>40.2</td>\n",
       "      <td>159</td>\n",
       "      <td>1</td>\n",
       "      <td>74.5</td>\n",
       "    </tr>\n",
       "    <tr>\n",
       "      <th>30</th>\n",
       "      <td>MewYork</td>\n",
       "      <td>43.0</td>\n",
       "      <td>152</td>\n",
       "      <td>1</td>\n",
       "      <td>75.5</td>\n",
       "    </tr>\n",
       "    <tr>\n",
       "      <th>31</th>\n",
       "      <td>NorthCarolina</td>\n",
       "      <td>35.5</td>\n",
       "      <td>199</td>\n",
       "      <td>1</td>\n",
       "      <td>79.5</td>\n",
       "    </tr>\n",
       "    <tr>\n",
       "      <th>35</th>\n",
       "      <td>Oregon</td>\n",
       "      <td>44.0</td>\n",
       "      <td>136</td>\n",
       "      <td>1</td>\n",
       "      <td>120.5</td>\n",
       "    </tr>\n",
       "    <tr>\n",
       "      <th>37</th>\n",
       "      <td>RhodeIsland</td>\n",
       "      <td>41.8</td>\n",
       "      <td>137</td>\n",
       "      <td>1</td>\n",
       "      <td>71.5</td>\n",
       "    </tr>\n",
       "    <tr>\n",
       "      <th>38</th>\n",
       "      <td>SouthCarolina</td>\n",
       "      <td>33.8</td>\n",
       "      <td>178</td>\n",
       "      <td>1</td>\n",
       "      <td>81.0</td>\n",
       "    </tr>\n",
       "    <tr>\n",
       "      <th>41</th>\n",
       "      <td>Texas</td>\n",
       "      <td>31.5</td>\n",
       "      <td>229</td>\n",
       "      <td>1</td>\n",
       "      <td>98.0</td>\n",
       "    </tr>\n",
       "    <tr>\n",
       "      <th>43</th>\n",
       "      <td>Vermont</td>\n",
       "      <td>44.0</td>\n",
       "      <td>153</td>\n",
       "      <td>1</td>\n",
       "      <td>72.5</td>\n",
       "    </tr>\n",
       "    <tr>\n",
       "      <th>44</th>\n",
       "      <td>Virginia</td>\n",
       "      <td>37.5</td>\n",
       "      <td>166</td>\n",
       "      <td>1</td>\n",
       "      <td>78.5</td>\n",
       "    </tr>\n",
       "    <tr>\n",
       "      <th>45</th>\n",
       "      <td>Washington</td>\n",
       "      <td>47.5</td>\n",
       "      <td>117</td>\n",
       "      <td>1</td>\n",
       "      <td>121.0</td>\n",
       "    </tr>\n",
       "  </tbody>\n",
       "</table>\n",
       "</div>"
      ],
      "text/plain": [
       "            State   Lat  Mort  Ocean   Long\n",
       "0         Alabama  33.0   219      1   87.0\n",
       "3      California  37.5   182      1  119.5\n",
       "5     Connecticut  41.8   159      1   72.8\n",
       "6        Delaware  39.0   200      1   75.5\n",
       "8         Florida  28.0   197      1   82.0\n",
       "9         Georgia  33.0   214      1   83.5\n",
       "16      Louisiana  31.2   190      1   91.8\n",
       "17          Maine  45.2   117      1   69.0\n",
       "18       Maryland  39.0   162      1   76.5\n",
       "19  Massachusetts  42.2   143      1   71.8\n",
       "22    Mississippi  32.8   207      1   90.0\n",
       "27   NewHampshire  43.8   129      1   71.5\n",
       "28      NewJersey  40.2   159      1   74.5\n",
       "30        MewYork  43.0   152      1   75.5\n",
       "31  NorthCarolina  35.5   199      1   79.5\n",
       "35         Oregon  44.0   136      1  120.5\n",
       "37    RhodeIsland  41.8   137      1   71.5\n",
       "38  SouthCarolina  33.8   178      1   81.0\n",
       "41          Texas  31.5   229      1   98.0\n",
       "43        Vermont  44.0   153      1   72.5\n",
       "44       Virginia  37.5   166      1   78.5\n",
       "45     Washington  47.5   117      1  121.0"
      ]
     },
     "execution_count": 25,
     "metadata": {},
     "output_type": "execute_result"
    }
   ],
   "source": [
    "P"
   ]
  },
  {
   "cell_type": "code",
   "execution_count": 14,
   "metadata": {
    "scrolled": true
   },
   "outputs": [
    {
     "data": {
      "text/plain": [
       "<matplotlib.axes._subplots.AxesSubplot at 0x7f4460bc07d0>"
      ]
     },
     "execution_count": 14,
     "metadata": {},
     "output_type": "execute_result"
    },
    {
     "data": {
      "image/png": "[encoded data removed]",
      "text/plain": [
       "<Figure size 432x288 with 1 Axes>"
      ]
     },
     "metadata": {
      "needs_background": "light"
     },
     "output_type": "display_data"
    }
   ],
   "source": [
    "#On va chercher une corrélation entre la latitude et la mort avec le module seaborn de panda par les moindres carrés\n",
    "sn.regplot(x=\"Lat\",y = \"Mort\", data = T, ci=98,fit_reg=True)"
   ]
  },
  {
   "cell_type": "markdown",
   "metadata": {},
   "source": [
    "Selon ce modèle, on voit qu'on a une covariance négative donc selon ce modèle quand la latitude diminue le risque de  mort augmente"
   ]
  },
  {
   "cell_type": "code",
   "execution_count": 22,
   "metadata": {},
   "outputs": [
    {
     "data": {
      "text/plain": [
       "(-5.977635744411935,\n",
       " 389.18935103061955,\n",
       " -0.8245177937800732,\n",
       " -0.824517793780073)"
      ]
     },
     "execution_count": 22,
     "metadata": {},
     "output_type": "execute_result"
    }
   ],
   "source": [
    "#Pour obtenir la regression linéaire direct sans passer par le code d'avant\n",
    "R = linregress(T['Lat'],T['Mort'])\n",
    "a,b,r = R[0], R[1], R[2]\n",
    "sX = T.std(ddof=0)[0]\n",
    "sY = T.std(ddof=0)[1]\n",
    "rho = a*sX/sY\n",
    "a,b,r,rho"
   ]
  },
  {
   "cell_type": "markdown",
   "metadata": {},
   "source": [
    "On se demande si il y a un impact réel de la présence d'un océan sur le risque de mort"
   ]
  },
  {
   "cell_type": "code",
   "execution_count": 23,
   "metadata": {},
   "outputs": [
    {
     "data": {
      "text/plain": [
       "<seaborn.axisgrid.FacetGrid at 0x7f44602bb650>"
      ]
     },
     "execution_count": 23,
     "metadata": {},
     "output_type": "execute_result"
    },
    {
     "data": {
      "image/png": "[encoded data removed]",
      "text/plain": [
       "<Figure size 402.375x360 with 1 Axes>"
      ]
     },
     "metadata": {
      "needs_background": "light"
     },
     "output_type": "display_data"
    }
   ],
   "source": [
    "#faire plusieurs nuages de points sur une même figure\n",
    "sn.lmplot(x=\"Lat\",y = \"Mort\", data = T, hue = 'Ocean', markers = [\"o\", \"x\"],ci=98,fit_reg=True)"
   ]
  },
  {
   "cell_type": "code",
   "execution_count": 26,
   "metadata": {},
   "outputs": [
    {
     "data": {
      "text/plain": [
       "(-5.490820029809004, 381.1995532362523, -0.8866802463409464)"
      ]
     },
     "execution_count": 26,
     "metadata": {},
     "output_type": "execute_result"
    }
   ],
   "source": [
    "#Pour récupérer la régression linéaire il suffit de créer un nouveau tableau avec seulement océan =1 ou 0\n",
    "R1 = linregress(P['Lat'],P['Mort'])\n",
    "a1,b1,r1 = R1[0], R1[1], R1[2]\n",
    "a1,b1,r1"
   ]
  },
  {
   "cell_type": "markdown",
   "metadata": {},
   "source": [
    "Selon ce modèle apparemment il y a plus de chance de mourir si on est proche d'un océan car il est au dessus de l'autre courbe "
   ]
  }
 ],
 "metadata": {
  "kernelspec": {
   "display_name": "Python 3",
   "language": "python",
   "name": "python3"
  },
  "language_info": {
   "codemirror_mode": {
    "name": "ipython",
    "version": 3
   },
   "file_extension": ".py",
   "mimetype": "text/x-python",
   "name": "python",
   "nbconvert_exporter": "python",
   "pygments_lexer": "ipython3",
   "version": "3.7.6"
  }
 },
 "nbformat": 4,
 "nbformat_minor": 5
}
