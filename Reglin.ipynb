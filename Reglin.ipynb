{
 "cells": [
  {
   "cell_type": "code",
   "execution_count": 46,
   "metadata": {},
   "outputs": [],
   "source": [
    "import pandas as pa\n",
    "import pylab as pl\n",
    "import matplotlib.pyplot as plt\n",
    "import matplotlib.patches as patches\n",
    "#Comment créer un tableau de data \n",
    "T = pa.DataFrame()\n",
    "T['Prix'] = [1,2,3,4,5,6,7,8,9]\n",
    "T['Ventes'] = [10,9,8.3,7.5,5.4,4.6,3.7,2.8,1.9]"
   ]
  },
  {
   "cell_type": "code",
   "execution_count": 2,
   "metadata": {},
   "outputs": [
    {
     "data": {
      "text/html": [
       "<div>\n",
       "<style scoped>\n",
       "    .dataframe tbody tr th:only-of-type {\n",
       "        vertical-align: middle;\n",
       "    }\n",
       "\n",
       "    .dataframe tbody tr th {\n",
       "        vertical-align: top;\n",
       "    }\n",
       "\n",
       "    .dataframe thead th {\n",
       "        text-align: right;\n",
       "    }\n",
       "</style>\n",
       "<table border=\"1\" class=\"dataframe\">\n",
       "  <thead>\n",
       "    <tr style=\"text-align: right;\">\n",
       "      <th></th>\n",
       "      <th>Prix</th>\n",
       "      <th>Ventes</th>\n",
       "    </tr>\n",
       "  </thead>\n",
       "  <tbody>\n",
       "    <tr>\n",
       "      <th>0</th>\n",
       "      <td>1</td>\n",
       "      <td>10.0</td>\n",
       "    </tr>\n",
       "    <tr>\n",
       "      <th>1</th>\n",
       "      <td>2</td>\n",
       "      <td>9.0</td>\n",
       "    </tr>\n",
       "    <tr>\n",
       "      <th>2</th>\n",
       "      <td>3</td>\n",
       "      <td>8.3</td>\n",
       "    </tr>\n",
       "    <tr>\n",
       "      <th>3</th>\n",
       "      <td>4</td>\n",
       "      <td>7.5</td>\n",
       "    </tr>\n",
       "    <tr>\n",
       "      <th>4</th>\n",
       "      <td>5</td>\n",
       "      <td>5.4</td>\n",
       "    </tr>\n",
       "    <tr>\n",
       "      <th>5</th>\n",
       "      <td>6</td>\n",
       "      <td>4.6</td>\n",
       "    </tr>\n",
       "    <tr>\n",
       "      <th>6</th>\n",
       "      <td>7</td>\n",
       "      <td>3.7</td>\n",
       "    </tr>\n",
       "    <tr>\n",
       "      <th>7</th>\n",
       "      <td>8</td>\n",
       "      <td>2.8</td>\n",
       "    </tr>\n",
       "    <tr>\n",
       "      <th>8</th>\n",
       "      <td>9</td>\n",
       "      <td>1.9</td>\n",
       "    </tr>\n",
       "  </tbody>\n",
       "</table>\n",
       "</div>"
      ],
      "text/plain": [
       "   Prix  Ventes\n",
       "0     1    10.0\n",
       "1     2     9.0\n",
       "2     3     8.3\n",
       "3     4     7.5\n",
       "4     5     5.4\n",
       "5     6     4.6\n",
       "6     7     3.7\n",
       "7     8     2.8\n",
       "8     9     1.9"
      ]
     },
     "execution_count": 2,
     "metadata": {},
     "output_type": "execute_result"
    }
   ],
   "source": [
    "T"
   ]
  },
  {
   "cell_type": "code",
   "execution_count": 3,
   "metadata": {},
   "outputs": [
    {
     "data": {
      "text/html": [
       "<div>\n",
       "<style scoped>\n",
       "    .dataframe tbody tr th:only-of-type {\n",
       "        vertical-align: middle;\n",
       "    }\n",
       "\n",
       "    .dataframe tbody tr th {\n",
       "        vertical-align: top;\n",
       "    }\n",
       "\n",
       "    .dataframe thead th {\n",
       "        text-align: right;\n",
       "    }\n",
       "</style>\n",
       "<table border=\"1\" class=\"dataframe\">\n",
       "  <thead>\n",
       "    <tr style=\"text-align: right;\">\n",
       "      <th></th>\n",
       "      <th>Prix</th>\n",
       "      <th>Ventes</th>\n",
       "    </tr>\n",
       "  </thead>\n",
       "  <tbody>\n",
       "    <tr>\n",
       "      <th>count</th>\n",
       "      <td>9.000000</td>\n",
       "      <td>9.000000</td>\n",
       "    </tr>\n",
       "    <tr>\n",
       "      <th>mean</th>\n",
       "      <td>5.000000</td>\n",
       "      <td>5.911111</td>\n",
       "    </tr>\n",
       "    <tr>\n",
       "      <th>std</th>\n",
       "      <td>2.738613</td>\n",
       "      <td>2.896741</td>\n",
       "    </tr>\n",
       "    <tr>\n",
       "      <th>min</th>\n",
       "      <td>1.000000</td>\n",
       "      <td>1.900000</td>\n",
       "    </tr>\n",
       "    <tr>\n",
       "      <th>25%</th>\n",
       "      <td>3.000000</td>\n",
       "      <td>3.700000</td>\n",
       "    </tr>\n",
       "    <tr>\n",
       "      <th>50%</th>\n",
       "      <td>5.000000</td>\n",
       "      <td>5.400000</td>\n",
       "    </tr>\n",
       "    <tr>\n",
       "      <th>75%</th>\n",
       "      <td>7.000000</td>\n",
       "      <td>8.300000</td>\n",
       "    </tr>\n",
       "    <tr>\n",
       "      <th>max</th>\n",
       "      <td>9.000000</td>\n",
       "      <td>10.000000</td>\n",
       "    </tr>\n",
       "  </tbody>\n",
       "</table>\n",
       "</div>"
      ],
      "text/plain": [
       "           Prix     Ventes\n",
       "count  9.000000   9.000000\n",
       "mean   5.000000   5.911111\n",
       "std    2.738613   2.896741\n",
       "min    1.000000   1.900000\n",
       "25%    3.000000   3.700000\n",
       "50%    5.000000   5.400000\n",
       "75%    7.000000   8.300000\n",
       "max    9.000000  10.000000"
      ]
     },
     "execution_count": 3,
     "metadata": {},
     "output_type": "execute_result"
    }
   ],
   "source": [
    "T.describe()"
   ]
  },
  {
   "cell_type": "code",
   "execution_count": 6,
   "metadata": {},
   "outputs": [],
   "source": [
    "P = pa.read_csv('actions.csv')\n",
    "#représentation en nuage de point et utilisation du point moyen (xi,yi) d'un jeu de donnée -> (xm,ym)\n"
   ]
  },
  {
   "cell_type": "code",
   "execution_count": 23,
   "metadata": {},
   "outputs": [
    {
     "data": {
      "text/plain": [
       "0.0126"
      ]
     },
     "execution_count": 23,
     "metadata": {},
     "output_type": "execute_result"
    }
   ],
   "source": [
    "P['Carrefour'][0]"
   ]
  },
  {
   "cell_type": "code",
   "execution_count": 27,
   "metadata": {},
   "outputs": [
    {
     "name": "stderr",
     "output_type": "stream",
     "text": [
      "/tmp/ipykernel_6572/4053553917.py:7: FutureWarning: The default value of numeric_only in DataFrame.mean is deprecated. In a future version, it will default to False. In addition, specifying 'numeric_only=None' is deprecated. Select only valid columns or specify the value of numeric_only to silence this warning.\n",
      "  mx = P.mean()[0]\n",
      "/tmp/ipykernel_6572/4053553917.py:8: FutureWarning: The default value of numeric_only in DataFrame.mean is deprecated. In a future version, it will default to False. In addition, specifying 'numeric_only=None' is deprecated. Select only valid columns or specify the value of numeric_only to silence this warning.\n",
      "  my = P.mean()[1]\n"
     ]
    },
    {
     "data": {
      "image/png": "[encoded data removed]",
      "text/plain": [
       "<Figure size 640x480 with 1 Axes>"
      ]
     },
     "metadata": {},
     "output_type": "display_data"
    }
   ],
   "source": [
    "#Création du nuage de point et des axes\n",
    "P.plot.scatter(x = 'Carrefour',y = 'Renault')\n",
    "pl.axhline(y = 0,color = 'gray')\n",
    "pl.axvline(x = 0,color = 'gray')\n",
    "\n",
    "#Création du point moyen \n",
    "mx = P.mean()[0]\n",
    "my = P.mean()[1]\n",
    "pl.plot(mx,my,'o',color = 'blue')\n",
    "pl.text(mx,my,'G',color = 'blue')\n",
    "\n",
    "for i in range(len(P['Carrefour'])):\n",
    "    pl.text(P['Carrefour'][i],P['Renault'][i],'M'+str(i),color = 'blue')\n"
   ]
  },
  {
   "cell_type": "code",
   "execution_count": 30,
   "metadata": {},
   "outputs": [],
   "source": [
    "#question qu'on se pose: les actions de carrefour et renault evolue telle de concert soit rx = xi-xm et ry=yi_ym \n",
    "#sont de même signes ou de signe contraire \n",
    "\n",
    "P['RX'] = P['Carrefour']-mx\n",
    "P['RY'] = P['Renault']-my\n",
    "P['RX*RY'] = P['RX']*P['RY']"
   ]
  },
  {
   "cell_type": "code",
   "execution_count": 31,
   "metadata": {},
   "outputs": [
    {
     "data": {
      "text/html": [
       "<div>\n",
       "<style scoped>\n",
       "    .dataframe tbody tr th:only-of-type {\n",
       "        vertical-align: middle;\n",
       "    }\n",
       "\n",
       "    .dataframe tbody tr th {\n",
       "        vertical-align: top;\n",
       "    }\n",
       "\n",
       "    .dataframe thead th {\n",
       "        text-align: right;\n",
       "    }\n",
       "</style>\n",
       "<table border=\"1\" class=\"dataframe\">\n",
       "  <thead>\n",
       "    <tr style=\"text-align: right;\">\n",
       "      <th></th>\n",
       "      <th>Date</th>\n",
       "      <th>Carrefour</th>\n",
       "      <th>Renault</th>\n",
       "      <th>RX</th>\n",
       "      <th>RY</th>\n",
       "      <th>RX*RY</th>\n",
       "    </tr>\n",
       "  </thead>\n",
       "  <tbody>\n",
       "    <tr>\n",
       "      <th>0</th>\n",
       "      <td>2020-06-19</td>\n",
       "      <td>0.0126</td>\n",
       "      <td>-0.0158</td>\n",
       "      <td>0.013962</td>\n",
       "      <td>-0.0229</td>\n",
       "      <td>-0.000320</td>\n",
       "    </tr>\n",
       "    <tr>\n",
       "      <th>1</th>\n",
       "      <td>2020-06-22</td>\n",
       "      <td>0.0298</td>\n",
       "      <td>-0.0052</td>\n",
       "      <td>0.031162</td>\n",
       "      <td>-0.0123</td>\n",
       "      <td>-0.000383</td>\n",
       "    </tr>\n",
       "    <tr>\n",
       "      <th>2</th>\n",
       "      <td>2020-06-23</td>\n",
       "      <td>0.0203</td>\n",
       "      <td>0.0640</td>\n",
       "      <td>0.021662</td>\n",
       "      <td>0.0569</td>\n",
       "      <td>0.001233</td>\n",
       "    </tr>\n",
       "    <tr>\n",
       "      <th>3</th>\n",
       "      <td>2020-06-24</td>\n",
       "      <td>-0.0344</td>\n",
       "      <td>-0.0648</td>\n",
       "      <td>-0.033037</td>\n",
       "      <td>-0.0719</td>\n",
       "      <td>0.002375</td>\n",
       "    </tr>\n",
       "    <tr>\n",
       "      <th>4</th>\n",
       "      <td>2020-06-25</td>\n",
       "      <td>-0.0024</td>\n",
       "      <td>0.0227</td>\n",
       "      <td>-0.001037</td>\n",
       "      <td>0.0156</td>\n",
       "      <td>-0.000016</td>\n",
       "    </tr>\n",
       "    <tr>\n",
       "      <th>5</th>\n",
       "      <td>2020-06-26</td>\n",
       "      <td>-0.0231</td>\n",
       "      <td>-0.0199</td>\n",
       "      <td>-0.021737</td>\n",
       "      <td>-0.0270</td>\n",
       "      <td>0.000587</td>\n",
       "    </tr>\n",
       "    <tr>\n",
       "      <th>6</th>\n",
       "      <td>2020-06-29</td>\n",
       "      <td>-0.0036</td>\n",
       "      <td>0.0525</td>\n",
       "      <td>-0.002237</td>\n",
       "      <td>0.0454</td>\n",
       "      <td>-0.000102</td>\n",
       "    </tr>\n",
       "    <tr>\n",
       "      <th>7</th>\n",
       "      <td>2020-06-30</td>\n",
       "      <td>-0.0101</td>\n",
       "      <td>0.0233</td>\n",
       "      <td>-0.008737</td>\n",
       "      <td>0.0162</td>\n",
       "      <td>-0.000142</td>\n",
       "    </tr>\n",
       "  </tbody>\n",
       "</table>\n",
       "</div>"
      ],
      "text/plain": [
       "         Date  Carrefour  Renault        RX      RY     RX*RY\n",
       "0  2020-06-19     0.0126  -0.0158  0.013962 -0.0229 -0.000320\n",
       "1  2020-06-22     0.0298  -0.0052  0.031162 -0.0123 -0.000383\n",
       "2  2020-06-23     0.0203   0.0640  0.021662  0.0569  0.001233\n",
       "3  2020-06-24    -0.0344  -0.0648 -0.033037 -0.0719  0.002375\n",
       "4  2020-06-25    -0.0024   0.0227 -0.001037  0.0156 -0.000016\n",
       "5  2020-06-26    -0.0231  -0.0199 -0.021737 -0.0270  0.000587\n",
       "6  2020-06-29    -0.0036   0.0525 -0.002237  0.0454 -0.000102\n",
       "7  2020-06-30    -0.0101   0.0233 -0.008737  0.0162 -0.000142"
      ]
     },
     "execution_count": 31,
     "metadata": {},
     "output_type": "execute_result"
    }
   ],
   "source": [
    "P"
   ]
  },
  {
   "cell_type": "code",
   "execution_count": 34,
   "metadata": {},
   "outputs": [
    {
     "data": {
      "text/plain": [
       "0.0004040687499999999"
      ]
     },
     "execution_count": 34,
     "metadata": {},
     "output_type": "execute_result"
    }
   ],
   "source": [
    "P['RX*RY'].mean()\n",
    "#en moyenne les actions de carrefour et renault evoluent de concert par rapport a leur moyenne"
   ]
  },
  {
   "cell_type": "code",
   "execution_count": 52,
   "metadata": {},
   "outputs": [
    {
     "name": "stderr",
     "output_type": "stream",
     "text": [
      "/tmp/ipykernel_6572/3028340239.py:8: FutureWarning: The default value of numeric_only in DataFrame.mean is deprecated. In a future version, it will default to False. In addition, specifying 'numeric_only=None' is deprecated. Select only valid columns or specify the value of numeric_only to silence this warning.\n",
      "  mx = P.mean()[0]\n",
      "/tmp/ipykernel_6572/3028340239.py:9: FutureWarning: The default value of numeric_only in DataFrame.mean is deprecated. In a future version, it will default to False. In addition, specifying 'numeric_only=None' is deprecated. Select only valid columns or specify the value of numeric_only to silence this warning.\n",
      "  my = P.mean()[1]\n"
     ]
    },
    {
     "data": {
      "image/png": "[encoded data removed]",
      "text/plain": [
       "<Figure size 640x480 with 1 Axes>"
      ]
     },
     "metadata": {},
     "output_type": "display_data"
    }
   ],
   "source": [
    "#data visu de la covariance on construitr un rectangle de coingauche G, droit Mi et d'aire (xi-xm)(yi-ym)\n",
    "#Création du nuage de point et des axes\n",
    "P.plot.scatter(x = 'Carrefour',y = 'Renault')\n",
    "pl.axhline(y = 0,color = 'gray')\n",
    "pl.axvline(x = 0,color = 'gray')\n",
    "\n",
    "#Création du point moyen \n",
    "mx = P.mean()[0]\n",
    "my = P.mean()[1]\n",
    "pl.plot(mx,my,'o',color = 'blue')\n",
    "pl.text(mx,my,'G',color = 'blue')\n",
    "\n",
    "for i in range(len(P['Carrefour'])):\n",
    "    pl.text(P['Carrefour'][i],P['Renault'][i],'M'+str(i),color = 'blue')\n"
   ]
  },
  {
   "cell_type": "code",
   "execution_count": 88,
   "metadata": {},
   "outputs": [
    {
     "name": "stderr",
     "output_type": "stream",
     "text": [
      "/tmp/ipykernel_6572/807930840.py:7: FutureWarning: The default value of numeric_only in DataFrame.mean is deprecated. In a future version, it will default to False. In addition, specifying 'numeric_only=None' is deprecated. Select only valid columns or specify the value of numeric_only to silence this warning.\n",
      "  mx = P.mean()[0]\n",
      "/tmp/ipykernel_6572/807930840.py:8: FutureWarning: The default value of numeric_only in DataFrame.mean is deprecated. In a future version, it will default to False. In addition, specifying 'numeric_only=None' is deprecated. Select only valid columns or specify the value of numeric_only to silence this warning.\n",
      "  my = P.mean()[1]\n"
     ]
    },
    {
     "data": {
      "image/png": "[encoded data removed]",
      "text/plain": [
       "<Figure size 640x480 with 1 Axes>"
      ]
     },
     "metadata": {},
     "output_type": "display_data"
    }
   ],
   "source": [
    "fig, ax = plt.subplots()\n",
    "#fig = plt.figure() \n",
    "#ax = fig.add_subplot()\n",
    "\n",
    "plt.scatter(x = P['Carrefour'],y = P['Renault'])\n",
    "cov = 0\n",
    "mx = P.mean()[0]\n",
    "my = P.mean()[1]\n",
    "plt.plot(mx,my,'o',color = 'blue')\n",
    "plt.text(mx,my,'G',color = 'blue')\n",
    "\n",
    "#data visulation de la covariance chaque aire correspond a (xi-xm)(yi-ym)\n",
    "for i in range(len(P['Carrefour'])):\n",
    "    pl.text(P['Carrefour'][i],P['Renault'][i],'M'+str(i),color = 'blue')\n",
    "    if P['Carrefour'][i]*P['Renault'][i]>0:\n",
    "        rect = plt.Rectangle((mx,my), P['Carrefour'][i]-mx, P['Renault'][i]-my, edgecolor = 'blue',facecolor = 'red',fill=True)\n",
    "        ax.add_patch(rect)\n",
    "        cov += P['Carrefour'][i]*P['Renault'][i]\n",
    "    else :\n",
    "        rect = plt.Rectangle((mx,my), P['Carrefour'][i]-mx, P['Renault'][i]-my, edgecolor = 'blue',facecolor = 'blue',fill=True)\n",
    "        ax.add_patch(rect)\n",
    "        cov += P['Carrefour'][i]*P['Renault'][i]\n",
    "    \n",
    "    \n",
    "plt.title('Nuage de points avec Matplotlib')\n",
    "plt.axhline(y = 0,color = 'gray')\n",
    "plt.axvline(x = 0,color = 'gray')\n",
    "plt.xlabel('Carrefour')\n",
    "plt.ylabel('Renault')\n",
    "plt.show()"
   ]
  },
  {
   "cell_type": "code",
   "execution_count": 90,
   "metadata": {},
   "outputs": [
    {
     "name": "stdout",
     "output_type": "stream",
     "text": [
      "0.00039439499999999997\n"
     ]
    }
   ],
   "source": [
    "print(cov/len(P['Carrefour']))\n",
    "#Remarque, si la covariance est nulle ya pas de corrélation entre les deux jeux, si positive corélés positivement ou vegativement"
   ]
  },
  {
   "cell_type": "code",
   "execution_count": null,
   "metadata": {},
   "outputs": [],
   "source": []
  }
 ],
 "metadata": {
  "kernelspec": {
   "display_name": "Python 3",
   "language": "python",
   "name": "python3"
  },
  "language_info": {
   "codemirror_mode": {
    "name": "ipython",
    "version": 3
   },
   "file_extension": ".py",
   "mimetype": "text/x-python",
   "name": "python",
   "nbconvert_exporter": "python",
   "pygments_lexer": "ipython3",
   "version": "3.7.6"
  }
 },
 "nbformat": 4,
 "nbformat_minor": 5
}
