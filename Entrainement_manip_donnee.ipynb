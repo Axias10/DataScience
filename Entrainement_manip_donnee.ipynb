{
 "cells": [
  {
   "cell_type": "code",
   "execution_count": 2,
   "id": "6db6d7c1",
   "metadata": {},
   "outputs": [
    {
     "name": "stdout",
     "output_type": "stream",
     "text": [
      "--2022-12-11 01:15:23--  http://livre/\n",
      "Resolving livre (livre)... failed: Name or service not known.\n",
      "wget: unable to resolve host address ‘livre’\n",
      "--2022-12-11 01:15:23--  http://python_bro_remy/\n",
      "Resolving python_bro_remy (python_bro_remy)... failed: Name or service not known.\n",
      "wget: unable to resolve host address ‘python_bro_remy’\n",
      "--2022-12-11 01:15:23--  http://maths.bro.free.fr/data/data.html\n",
      "Resolving maths.bro.free.fr (maths.bro.free.fr)... 212.27.63.112\n",
      "Connecting to maths.bro.free.fr (maths.bro.free.fr)|212.27.63.112|:80... connected.\n",
      "HTTP request sent, awaiting response... 401 Authorization Required\n",
      "Authentication selected: Basic realm=\"Acces Restreint\"\n",
      "Connecting to maths.bro.free.fr (maths.bro.free.fr)|212.27.63.112|:80... connected.\n",
      "HTTP request sent, awaiting response... 401 Authorization Required\n",
      "\n",
      "Username/Password Authentication Failed.\n"
     ]
    }
   ],
   "source": [
    "!wget -r --user = livre --password = python_bro_remy \\\n",
    "http://maths.bro.free.fr/data/data.html"
   ]
  },
  {
   "cell_type": "code",
   "execution_count": 35,
   "id": "8b00c075",
   "metadata": {
    "scrolled": true
   },
   "outputs": [
    {
     "data": {
      "text/html": [
       "<div>\n",
       "<style scoped>\n",
       "    .dataframe tbody tr th:only-of-type {\n",
       "        vertical-align: middle;\n",
       "    }\n",
       "\n",
       "    .dataframe tbody tr th {\n",
       "        vertical-align: top;\n",
       "    }\n",
       "\n",
       "    .dataframe thead th {\n",
       "        text-align: right;\n",
       "    }\n",
       "</style>\n",
       "<table border=\"1\" class=\"dataframe\">\n",
       "  <thead>\n",
       "    <tr style=\"text-align: right;\">\n",
       "      <th></th>\n",
       "      <th>tout_moment</th>\n",
       "      <th>variete</th>\n",
       "      <th>comment</th>\n",
       "      <th>sucre</th>\n",
       "      <th>forme</th>\n",
       "      <th>type</th>\n",
       "      <th>sexe</th>\n",
       "      <th>CSP</th>\n",
       "      <th>sportif</th>\n",
       "      <th>age</th>\n",
       "      <th>frequence</th>\n",
       "      <th>plus_pour_la_sante</th>\n",
       "    </tr>\n",
       "  </thead>\n",
       "  <tbody>\n",
       "    <tr>\n",
       "      <th>0</th>\n",
       "      <td>0</td>\n",
       "      <td>noir</td>\n",
       "      <td>pur</td>\n",
       "      <td>1</td>\n",
       "      <td>sachet</td>\n",
       "      <td>inconnu</td>\n",
       "      <td>H</td>\n",
       "      <td>cadre moyen</td>\n",
       "      <td>1</td>\n",
       "      <td>39</td>\n",
       "      <td>1/jour</td>\n",
       "      <td>1</td>\n",
       "    </tr>\n",
       "    <tr>\n",
       "      <th>1</th>\n",
       "      <td>0</td>\n",
       "      <td>noir</td>\n",
       "      <td>lait</td>\n",
       "      <td>0</td>\n",
       "      <td>sachet</td>\n",
       "      <td>variable</td>\n",
       "      <td>F</td>\n",
       "      <td>cadre moyen</td>\n",
       "      <td>1</td>\n",
       "      <td>45</td>\n",
       "      <td>1/jour</td>\n",
       "      <td>1</td>\n",
       "    </tr>\n",
       "    <tr>\n",
       "      <th>2</th>\n",
       "      <td>0</td>\n",
       "      <td>parfumé</td>\n",
       "      <td>pur</td>\n",
       "      <td>0</td>\n",
       "      <td>sachet</td>\n",
       "      <td>variable</td>\n",
       "      <td>F</td>\n",
       "      <td>autre actif</td>\n",
       "      <td>1</td>\n",
       "      <td>47</td>\n",
       "      <td>+ de 2/jour</td>\n",
       "      <td>1</td>\n",
       "    </tr>\n",
       "    <tr>\n",
       "      <th>3</th>\n",
       "      <td>0</td>\n",
       "      <td>parfumé</td>\n",
       "      <td>pur</td>\n",
       "      <td>1</td>\n",
       "      <td>sachet</td>\n",
       "      <td>variable</td>\n",
       "      <td>H</td>\n",
       "      <td>étudiant</td>\n",
       "      <td>0</td>\n",
       "      <td>23</td>\n",
       "      <td>1/jour</td>\n",
       "      <td>1</td>\n",
       "    </tr>\n",
       "    <tr>\n",
       "      <th>4</th>\n",
       "      <td>1</td>\n",
       "      <td>parfumé</td>\n",
       "      <td>pur</td>\n",
       "      <td>0</td>\n",
       "      <td>sachet</td>\n",
       "      <td>variable</td>\n",
       "      <td>H</td>\n",
       "      <td>employé</td>\n",
       "      <td>1</td>\n",
       "      <td>48</td>\n",
       "      <td>+ de 2/jour</td>\n",
       "      <td>0</td>\n",
       "    </tr>\n",
       "  </tbody>\n",
       "</table>\n",
       "</div>"
      ],
      "text/plain": [
       "   tout_moment  variete comment  sucre   forme      type sexe          CSP  \\\n",
       "0            0     noir     pur      1  sachet   inconnu    H  cadre moyen   \n",
       "1            0     noir    lait      0  sachet  variable    F  cadre moyen   \n",
       "2            0  parfumé     pur      0  sachet  variable    F  autre actif   \n",
       "3            0  parfumé     pur      1  sachet  variable    H     étudiant   \n",
       "4            1  parfumé     pur      0  sachet  variable    H      employé   \n",
       "\n",
       "   sportif  age    frequence  plus_pour_la_sante  \n",
       "0        1   39       1/jour                   1  \n",
       "1        1   45       1/jour                   1  \n",
       "2        1   47  + de 2/jour                   1  \n",
       "3        0   23       1/jour                   1  \n",
       "4        1   48  + de 2/jour                   0  "
      ]
     },
     "execution_count": 35,
     "metadata": {},
     "output_type": "execute_result"
    }
   ],
   "source": [
    "import pandas as pa\n",
    "T = pa.read_csv('the.csv')\n",
    "T.head()"
   ]
  },
  {
   "cell_type": "code",
   "execution_count": 4,
   "id": "8fa3be73",
   "metadata": {},
   "outputs": [
    {
     "data": {
      "text/plain": [
       "300"
      ]
     },
     "execution_count": 4,
     "metadata": {},
     "output_type": "execute_result"
    }
   ],
   "source": [
    "type(T)\n",
    "len(T)"
   ]
  },
  {
   "cell_type": "code",
   "execution_count": 62,
   "id": "cc8cf6ae",
   "metadata": {},
   "outputs": [
    {
     "data": {
      "text/plain": [
       "1"
      ]
     },
     "execution_count": 62,
     "metadata": {},
     "output_type": "execute_result"
    }
   ],
   "source": [
    "#selectionner une valeur dans un tableau on met d'abord l'index puis le nom de la colonne\n",
    "T.loc[3,'sucre']"
   ]
  },
  {
   "cell_type": "code",
   "execution_count": 6,
   "id": "833f25ee",
   "metadata": {},
   "outputs": [],
   "source": [
    "#effectuer une recherche dans un tableau \n",
    "T1 = T.query('sexe == \"F\" and age >= 30')\n",
    "T2 = T.query('age == 90')\n",
    "T3 = T.query('comment == \"pur\" and sexe == \"F\"')\n",
    "T4 = T.query('sexe == \"F\"')"
   ]
  },
  {
   "cell_type": "code",
   "execution_count": 28,
   "id": "23b91e9e",
   "metadata": {
    "scrolled": true
   },
   "outputs": [
    {
     "data": {
      "text/html": [
       "<div>\n",
       "<style scoped>\n",
       "    .dataframe tbody tr th:only-of-type {\n",
       "        vertical-align: middle;\n",
       "    }\n",
       "\n",
       "    .dataframe tbody tr th {\n",
       "        vertical-align: top;\n",
       "    }\n",
       "\n",
       "    .dataframe thead th {\n",
       "        text-align: right;\n",
       "    }\n",
       "</style>\n",
       "<table border=\"1\" class=\"dataframe\">\n",
       "  <thead>\n",
       "    <tr style=\"text-align: right;\">\n",
       "      <th></th>\n",
       "      <th>tout_moment</th>\n",
       "      <th>variete</th>\n",
       "      <th>comment</th>\n",
       "      <th>sucre</th>\n",
       "      <th>forme</th>\n",
       "      <th>type</th>\n",
       "      <th>sexe</th>\n",
       "      <th>CSP</th>\n",
       "      <th>sportif</th>\n",
       "      <th>age</th>\n",
       "      <th>frequence</th>\n",
       "      <th>plus_pour_la_sante</th>\n",
       "    </tr>\n",
       "  </thead>\n",
       "  <tbody>\n",
       "    <tr>\n",
       "      <th>1</th>\n",
       "      <td>0</td>\n",
       "      <td>noir</td>\n",
       "      <td>lait</td>\n",
       "      <td>0</td>\n",
       "      <td>sachet</td>\n",
       "      <td>variable</td>\n",
       "      <td>F</td>\n",
       "      <td>cadre moyen</td>\n",
       "      <td>1</td>\n",
       "      <td>45</td>\n",
       "      <td>1/jour</td>\n",
       "      <td>1</td>\n",
       "    </tr>\n",
       "    <tr>\n",
       "      <th>2</th>\n",
       "      <td>0</td>\n",
       "      <td>parfumé</td>\n",
       "      <td>pur</td>\n",
       "      <td>0</td>\n",
       "      <td>sachet</td>\n",
       "      <td>variable</td>\n",
       "      <td>F</td>\n",
       "      <td>autre actif</td>\n",
       "      <td>1</td>\n",
       "      <td>47</td>\n",
       "      <td>+ de 2/jour</td>\n",
       "      <td>1</td>\n",
       "    </tr>\n",
       "    <tr>\n",
       "      <th>7</th>\n",
       "      <td>0</td>\n",
       "      <td>noir</td>\n",
       "      <td>lait</td>\n",
       "      <td>0</td>\n",
       "      <td>sachet</td>\n",
       "      <td>variable</td>\n",
       "      <td>F</td>\n",
       "      <td>cadre moyen</td>\n",
       "      <td>1</td>\n",
       "      <td>36</td>\n",
       "      <td>1 à 2/sem</td>\n",
       "      <td>1</td>\n",
       "    </tr>\n",
       "    <tr>\n",
       "      <th>17</th>\n",
       "      <td>0</td>\n",
       "      <td>parfumé</td>\n",
       "      <td>pur</td>\n",
       "      <td>0</td>\n",
       "      <td>sachet</td>\n",
       "      <td>variable</td>\n",
       "      <td>F</td>\n",
       "      <td>non actif</td>\n",
       "      <td>1</td>\n",
       "      <td>72</td>\n",
       "      <td>+ de 2/jour</td>\n",
       "      <td>1</td>\n",
       "    </tr>\n",
       "    <tr>\n",
       "      <th>18</th>\n",
       "      <td>0</td>\n",
       "      <td>noir</td>\n",
       "      <td>pur</td>\n",
       "      <td>0</td>\n",
       "      <td>sachet</td>\n",
       "      <td>marque_connue</td>\n",
       "      <td>F</td>\n",
       "      <td>non actif</td>\n",
       "      <td>0</td>\n",
       "      <td>73</td>\n",
       "      <td>+ de 2/jour</td>\n",
       "      <td>0</td>\n",
       "    </tr>\n",
       "    <tr>\n",
       "      <th>...</th>\n",
       "      <td>...</td>\n",
       "      <td>...</td>\n",
       "      <td>...</td>\n",
       "      <td>...</td>\n",
       "      <td>...</td>\n",
       "      <td>...</td>\n",
       "      <td>...</td>\n",
       "      <td>...</td>\n",
       "      <td>...</td>\n",
       "      <td>...</td>\n",
       "      <td>...</td>\n",
       "      <td>...</td>\n",
       "    </tr>\n",
       "    <tr>\n",
       "      <th>293</th>\n",
       "      <td>1</td>\n",
       "      <td>parfumé</td>\n",
       "      <td>lait</td>\n",
       "      <td>1</td>\n",
       "      <td>sachet</td>\n",
       "      <td>inconnu</td>\n",
       "      <td>F</td>\n",
       "      <td>autre actif</td>\n",
       "      <td>1</td>\n",
       "      <td>32</td>\n",
       "      <td>1/jour</td>\n",
       "      <td>1</td>\n",
       "    </tr>\n",
       "    <tr>\n",
       "      <th>294</th>\n",
       "      <td>0</td>\n",
       "      <td>parfumé</td>\n",
       "      <td>pur</td>\n",
       "      <td>0</td>\n",
       "      <td>sachet+vrac</td>\n",
       "      <td>variable</td>\n",
       "      <td>F</td>\n",
       "      <td>cadre sup</td>\n",
       "      <td>1</td>\n",
       "      <td>50</td>\n",
       "      <td>+ de 2/jour</td>\n",
       "      <td>1</td>\n",
       "    </tr>\n",
       "    <tr>\n",
       "      <th>295</th>\n",
       "      <td>0</td>\n",
       "      <td>vert</td>\n",
       "      <td>lait</td>\n",
       "      <td>0</td>\n",
       "      <td>sachet</td>\n",
       "      <td>variable</td>\n",
       "      <td>F</td>\n",
       "      <td>non actif</td>\n",
       "      <td>1</td>\n",
       "      <td>68</td>\n",
       "      <td>1 à 2/sem</td>\n",
       "      <td>1</td>\n",
       "    </tr>\n",
       "    <tr>\n",
       "      <th>297</th>\n",
       "      <td>1</td>\n",
       "      <td>parfumé</td>\n",
       "      <td>pur</td>\n",
       "      <td>1</td>\n",
       "      <td>sachet</td>\n",
       "      <td>variable</td>\n",
       "      <td>F</td>\n",
       "      <td>autre actif</td>\n",
       "      <td>0</td>\n",
       "      <td>36</td>\n",
       "      <td>1 à 2/sem</td>\n",
       "      <td>0</td>\n",
       "    </tr>\n",
       "    <tr>\n",
       "      <th>298</th>\n",
       "      <td>1</td>\n",
       "      <td>noir</td>\n",
       "      <td>citron</td>\n",
       "      <td>1</td>\n",
       "      <td>sachet</td>\n",
       "      <td>haude_gamme</td>\n",
       "      <td>F</td>\n",
       "      <td>non actif</td>\n",
       "      <td>0</td>\n",
       "      <td>73</td>\n",
       "      <td>+ de 2/jour</td>\n",
       "      <td>0</td>\n",
       "    </tr>\n",
       "  </tbody>\n",
       "</table>\n",
       "<p>178 rows × 12 columns</p>\n",
       "</div>"
      ],
      "text/plain": [
       "     tout_moment  variete comment  sucre        forme           type sexe  \\\n",
       "1              0     noir    lait      0       sachet       variable    F   \n",
       "2              0  parfumé     pur      0       sachet       variable    F   \n",
       "7              0     noir    lait      0       sachet       variable    F   \n",
       "17             0  parfumé     pur      0       sachet       variable    F   \n",
       "18             0     noir     pur      0       sachet  marque_connue    F   \n",
       "..           ...      ...     ...    ...          ...            ...  ...   \n",
       "293            1  parfumé    lait      1       sachet        inconnu    F   \n",
       "294            0  parfumé     pur      0  sachet+vrac       variable    F   \n",
       "295            0     vert    lait      0       sachet       variable    F   \n",
       "297            1  parfumé     pur      1       sachet       variable    F   \n",
       "298            1     noir  citron      1       sachet    haude_gamme    F   \n",
       "\n",
       "             CSP  sportif  age    frequence  plus_pour_la_sante  \n",
       "1    cadre moyen        1   45       1/jour                   1  \n",
       "2    autre actif        1   47  + de 2/jour                   1  \n",
       "7    cadre moyen        1   36    1 à 2/sem                   1  \n",
       "17     non actif        1   72  + de 2/jour                   1  \n",
       "18     non actif        0   73  + de 2/jour                   0  \n",
       "..           ...      ...  ...          ...                 ...  \n",
       "293  autre actif        1   32       1/jour                   1  \n",
       "294    cadre sup        1   50  + de 2/jour                   1  \n",
       "295    non actif        1   68    1 à 2/sem                   1  \n",
       "297  autre actif        0   36    1 à 2/sem                   0  \n",
       "298    non actif        0   73  + de 2/jour                   0  \n",
       "\n",
       "[178 rows x 12 columns]"
      ]
     },
     "execution_count": 28,
     "metadata": {},
     "output_type": "execute_result"
    }
   ],
   "source": [
    "T4.head(len(T))"
   ]
  },
  {
   "cell_type": "code",
   "execution_count": 37,
   "id": "cf78c0eb",
   "metadata": {},
   "outputs": [
    {
     "data": {
      "text/html": [
       "<div>\n",
       "<style scoped>\n",
       "    .dataframe tbody tr th:only-of-type {\n",
       "        vertical-align: middle;\n",
       "    }\n",
       "\n",
       "    .dataframe tbody tr th {\n",
       "        vertical-align: top;\n",
       "    }\n",
       "\n",
       "    .dataframe thead th {\n",
       "        text-align: right;\n",
       "    }\n",
       "</style>\n",
       "<table border=\"1\" class=\"dataframe\">\n",
       "  <thead>\n",
       "    <tr style=\"text-align: right;\">\n",
       "      <th></th>\n",
       "      <th>tout_moment</th>\n",
       "      <th>variete</th>\n",
       "      <th>comment</th>\n",
       "      <th>sucre</th>\n",
       "      <th>forme</th>\n",
       "      <th>type</th>\n",
       "      <th>sexe</th>\n",
       "      <th>CSP</th>\n",
       "      <th>sportif</th>\n",
       "      <th>age</th>\n",
       "      <th>frequence</th>\n",
       "      <th>plus_pour_la_sante</th>\n",
       "    </tr>\n",
       "  </thead>\n",
       "  <tbody>\n",
       "    <tr>\n",
       "      <th>293</th>\n",
       "      <td>1</td>\n",
       "      <td>parfumé</td>\n",
       "      <td>lait</td>\n",
       "      <td>1</td>\n",
       "      <td>sachet</td>\n",
       "      <td>inconnu</td>\n",
       "      <td>F</td>\n",
       "      <td>autre actif</td>\n",
       "      <td>1</td>\n",
       "      <td>32</td>\n",
       "      <td>1/jour</td>\n",
       "      <td>1</td>\n",
       "    </tr>\n",
       "    <tr>\n",
       "      <th>294</th>\n",
       "      <td>0</td>\n",
       "      <td>parfumé</td>\n",
       "      <td>pur</td>\n",
       "      <td>0</td>\n",
       "      <td>sachet+vrac</td>\n",
       "      <td>variable</td>\n",
       "      <td>F</td>\n",
       "      <td>cadre sup</td>\n",
       "      <td>1</td>\n",
       "      <td>50</td>\n",
       "      <td>+ de 2/jour</td>\n",
       "      <td>1</td>\n",
       "    </tr>\n",
       "    <tr>\n",
       "      <th>295</th>\n",
       "      <td>0</td>\n",
       "      <td>vert</td>\n",
       "      <td>lait</td>\n",
       "      <td>0</td>\n",
       "      <td>sachet</td>\n",
       "      <td>variable</td>\n",
       "      <td>F</td>\n",
       "      <td>non actif</td>\n",
       "      <td>1</td>\n",
       "      <td>68</td>\n",
       "      <td>1 à 2/sem</td>\n",
       "      <td>1</td>\n",
       "    </tr>\n",
       "    <tr>\n",
       "      <th>297</th>\n",
       "      <td>1</td>\n",
       "      <td>parfumé</td>\n",
       "      <td>pur</td>\n",
       "      <td>1</td>\n",
       "      <td>sachet</td>\n",
       "      <td>variable</td>\n",
       "      <td>F</td>\n",
       "      <td>autre actif</td>\n",
       "      <td>0</td>\n",
       "      <td>36</td>\n",
       "      <td>1 à 2/sem</td>\n",
       "      <td>0</td>\n",
       "    </tr>\n",
       "    <tr>\n",
       "      <th>298</th>\n",
       "      <td>1</td>\n",
       "      <td>noir</td>\n",
       "      <td>citron</td>\n",
       "      <td>1</td>\n",
       "      <td>sachet</td>\n",
       "      <td>haude_gamme</td>\n",
       "      <td>F</td>\n",
       "      <td>non actif</td>\n",
       "      <td>0</td>\n",
       "      <td>73</td>\n",
       "      <td>+ de 2/jour</td>\n",
       "      <td>0</td>\n",
       "    </tr>\n",
       "  </tbody>\n",
       "</table>\n",
       "</div>"
      ],
      "text/plain": [
       "     tout_moment  variete comment  sucre        forme         type sexe  \\\n",
       "293            1  parfumé    lait      1       sachet      inconnu    F   \n",
       "294            0  parfumé     pur      0  sachet+vrac     variable    F   \n",
       "295            0     vert    lait      0       sachet     variable    F   \n",
       "297            1  parfumé     pur      1       sachet     variable    F   \n",
       "298            1     noir  citron      1       sachet  haude_gamme    F   \n",
       "\n",
       "             CSP  sportif  age    frequence  plus_pour_la_sante  \n",
       "293  autre actif        1   32       1/jour                   1  \n",
       "294    cadre sup        1   50  + de 2/jour                   1  \n",
       "295    non actif        1   68    1 à 2/sem                   1  \n",
       "297  autre actif        0   36    1 à 2/sem                   0  \n",
       "298    non actif        0   73  + de 2/jour                   0  "
      ]
     },
     "execution_count": 37,
     "metadata": {},
     "output_type": "execute_result"
    }
   ],
   "source": [
    "T3.head()\n",
    "T4.tail()"
   ]
  },
  {
   "cell_type": "code",
   "execution_count": 7,
   "id": "1bc2a68f",
   "metadata": {},
   "outputs": [
    {
     "data": {
      "text/html": [
       "<div>\n",
       "<style scoped>\n",
       "    .dataframe tbody tr th:only-of-type {\n",
       "        vertical-align: middle;\n",
       "    }\n",
       "\n",
       "    .dataframe tbody tr th {\n",
       "        vertical-align: top;\n",
       "    }\n",
       "\n",
       "    .dataframe thead th {\n",
       "        text-align: right;\n",
       "    }\n",
       "</style>\n",
       "<table border=\"1\" class=\"dataframe\">\n",
       "  <thead>\n",
       "    <tr style=\"text-align: right;\">\n",
       "      <th></th>\n",
       "      <th>tout_moment</th>\n",
       "      <th>variete</th>\n",
       "      <th>comment</th>\n",
       "      <th>sucre</th>\n",
       "      <th>forme</th>\n",
       "      <th>type</th>\n",
       "      <th>sexe</th>\n",
       "      <th>CSP</th>\n",
       "      <th>sportif</th>\n",
       "      <th>age</th>\n",
       "      <th>frequence</th>\n",
       "      <th>plus_pour_la_sante</th>\n",
       "    </tr>\n",
       "  </thead>\n",
       "  <tbody>\n",
       "    <tr>\n",
       "      <th>270</th>\n",
       "      <td>0</td>\n",
       "      <td>noir</td>\n",
       "      <td>pur</td>\n",
       "      <td>1</td>\n",
       "      <td>vrac</td>\n",
       "      <td>variable</td>\n",
       "      <td>F</td>\n",
       "      <td>non actif</td>\n",
       "      <td>0</td>\n",
       "      <td>90</td>\n",
       "      <td>+ de 2/jour</td>\n",
       "      <td>0</td>\n",
       "    </tr>\n",
       "  </tbody>\n",
       "</table>\n",
       "</div>"
      ],
      "text/plain": [
       "     tout_moment variete comment  sucre forme      type sexe        CSP  \\\n",
       "270            0    noir     pur      1  vrac  variable    F  non actif   \n",
       "\n",
       "     sportif  age    frequence  plus_pour_la_sante  \n",
       "270        0   90  + de 2/jour                   0  "
      ]
     },
     "execution_count": 7,
     "metadata": {},
     "output_type": "execute_result"
    }
   ],
   "source": [
    "T2"
   ]
  },
  {
   "cell_type": "code",
   "execution_count": 20,
   "id": "2ccc0889",
   "metadata": {},
   "outputs": [
    {
     "data": {
      "text/plain": [
       "0      H\n",
       "1      F\n",
       "2      F\n",
       "3      H\n",
       "4      H\n",
       "      ..\n",
       "295    F\n",
       "296    H\n",
       "297    F\n",
       "298    F\n",
       "299    H\n",
       "Name: sexe, Length: 300, dtype: object"
      ]
     },
     "execution_count": 20,
     "metadata": {},
     "output_type": "execute_result"
    }
   ],
   "source": [
    "T['sexe']"
   ]
  },
  {
   "cell_type": "code",
   "execution_count": 5,
   "id": "a7375c0f",
   "metadata": {},
   "outputs": [
    {
     "data": {
      "text/html": [
       "<div>\n",
       "<style scoped>\n",
       "    .dataframe tbody tr th:only-of-type {\n",
       "        vertical-align: middle;\n",
       "    }\n",
       "\n",
       "    .dataframe tbody tr th {\n",
       "        vertical-align: top;\n",
       "    }\n",
       "\n",
       "    .dataframe thead th {\n",
       "        text-align: right;\n",
       "    }\n",
       "</style>\n",
       "<table border=\"1\" class=\"dataframe\">\n",
       "  <thead>\n",
       "    <tr style=\"text-align: right;\">\n",
       "      <th>comment</th>\n",
       "      <th>autre</th>\n",
       "      <th>citron</th>\n",
       "      <th>lait</th>\n",
       "      <th>pur</th>\n",
       "    </tr>\n",
       "    <tr>\n",
       "      <th>sexe</th>\n",
       "      <th></th>\n",
       "      <th></th>\n",
       "      <th></th>\n",
       "      <th></th>\n",
       "    </tr>\n",
       "  </thead>\n",
       "  <tbody>\n",
       "    <tr>\n",
       "      <th>F</th>\n",
       "      <td>6</td>\n",
       "      <td>19</td>\n",
       "      <td>32</td>\n",
       "      <td>121</td>\n",
       "    </tr>\n",
       "    <tr>\n",
       "      <th>H</th>\n",
       "      <td>3</td>\n",
       "      <td>14</td>\n",
       "      <td>31</td>\n",
       "      <td>74</td>\n",
       "    </tr>\n",
       "  </tbody>\n",
       "</table>\n",
       "</div>"
      ],
      "text/plain": [
       "comment  autre  citron  lait  pur\n",
       "sexe                             \n",
       "F            6      19    32  121\n",
       "H            3      14    31   74"
      ]
     },
     "execution_count": 5,
     "metadata": {},
     "output_type": "execute_result"
    }
   ],
   "source": [
    "#croiser les tables sexes et comment \n",
    "E = pa.crosstab(T['sexe'],T['comment'])\n",
    "E"
   ]
  },
  {
   "cell_type": "code",
   "execution_count": 24,
   "id": "f7a7521e",
   "metadata": {},
   "outputs": [
    {
     "data": {
      "text/html": [
       "<div>\n",
       "<style scoped>\n",
       "    .dataframe tbody tr th:only-of-type {\n",
       "        vertical-align: middle;\n",
       "    }\n",
       "\n",
       "    .dataframe tbody tr th {\n",
       "        vertical-align: top;\n",
       "    }\n",
       "\n",
       "    .dataframe thead th {\n",
       "        text-align: right;\n",
       "    }\n",
       "</style>\n",
       "<table border=\"1\" class=\"dataframe\">\n",
       "  <thead>\n",
       "    <tr style=\"text-align: right;\">\n",
       "      <th>sexe</th>\n",
       "      <th>F</th>\n",
       "      <th>H</th>\n",
       "    </tr>\n",
       "    <tr>\n",
       "      <th>comment</th>\n",
       "      <th></th>\n",
       "      <th></th>\n",
       "    </tr>\n",
       "  </thead>\n",
       "  <tbody>\n",
       "    <tr>\n",
       "      <th>autre</th>\n",
       "      <td>6</td>\n",
       "      <td>3</td>\n",
       "    </tr>\n",
       "    <tr>\n",
       "      <th>citron</th>\n",
       "      <td>19</td>\n",
       "      <td>14</td>\n",
       "    </tr>\n",
       "    <tr>\n",
       "      <th>lait</th>\n",
       "      <td>32</td>\n",
       "      <td>31</td>\n",
       "    </tr>\n",
       "    <tr>\n",
       "      <th>pur</th>\n",
       "      <td>121</td>\n",
       "      <td>74</td>\n",
       "    </tr>\n",
       "  </tbody>\n",
       "</table>\n",
       "</div>"
      ],
      "text/plain": [
       "sexe       F   H\n",
       "comment         \n",
       "autre      6   3\n",
       "citron    19  14\n",
       "lait      32  31\n",
       "pur      121  74"
      ]
     },
     "execution_count": 24,
     "metadata": {},
     "output_type": "execute_result"
    }
   ],
   "source": [
    "#prendre la transposée \n",
    "E.T"
   ]
  },
  {
   "cell_type": "code",
   "execution_count": 25,
   "id": "279f6616",
   "metadata": {},
   "outputs": [
    {
     "data": {
      "text/html": [
       "<div>\n",
       "<style scoped>\n",
       "    .dataframe tbody tr th:only-of-type {\n",
       "        vertical-align: middle;\n",
       "    }\n",
       "\n",
       "    .dataframe tbody tr th {\n",
       "        vertical-align: top;\n",
       "    }\n",
       "\n",
       "    .dataframe thead th {\n",
       "        text-align: right;\n",
       "    }\n",
       "</style>\n",
       "<table border=\"1\" class=\"dataframe\">\n",
       "  <thead>\n",
       "    <tr style=\"text-align: right;\">\n",
       "      <th>sexe</th>\n",
       "      <th>F</th>\n",
       "      <th>H</th>\n",
       "    </tr>\n",
       "    <tr>\n",
       "      <th>comment</th>\n",
       "      <th></th>\n",
       "      <th></th>\n",
       "    </tr>\n",
       "  </thead>\n",
       "  <tbody>\n",
       "    <tr>\n",
       "      <th>autre</th>\n",
       "      <td>6</td>\n",
       "      <td>3</td>\n",
       "    </tr>\n",
       "    <tr>\n",
       "      <th>citron</th>\n",
       "      <td>19</td>\n",
       "      <td>14</td>\n",
       "    </tr>\n",
       "    <tr>\n",
       "      <th>lait</th>\n",
       "      <td>32</td>\n",
       "      <td>31</td>\n",
       "    </tr>\n",
       "    <tr>\n",
       "      <th>pur</th>\n",
       "      <td>121</td>\n",
       "      <td>74</td>\n",
       "    </tr>\n",
       "  </tbody>\n",
       "</table>\n",
       "</div>"
      ],
      "text/plain": [
       "sexe       F   H\n",
       "comment         \n",
       "autre      6   3\n",
       "citron    19  14\n",
       "lait      32  31\n",
       "pur      121  74"
      ]
     },
     "execution_count": 25,
     "metadata": {},
     "output_type": "execute_result"
    }
   ],
   "source": [
    "E2 = pa.crosstab(T['comment'],T['sexe'])\n",
    "E2"
   ]
  },
  {
   "cell_type": "code",
   "execution_count": 32,
   "id": "afee66e3",
   "metadata": {},
   "outputs": [
    {
     "data": {
      "text/html": [
       "<div>\n",
       "<style scoped>\n",
       "    .dataframe tbody tr th:only-of-type {\n",
       "        vertical-align: middle;\n",
       "    }\n",
       "\n",
       "    .dataframe tbody tr th {\n",
       "        vertical-align: top;\n",
       "    }\n",
       "\n",
       "    .dataframe thead th {\n",
       "        text-align: right;\n",
       "    }\n",
       "</style>\n",
       "<table border=\"1\" class=\"dataframe\">\n",
       "  <thead>\n",
       "    <tr style=\"text-align: right;\">\n",
       "      <th>comment</th>\n",
       "      <th>autre</th>\n",
       "      <th>citron</th>\n",
       "      <th>lait</th>\n",
       "      <th>pur</th>\n",
       "      <th>All</th>\n",
       "    </tr>\n",
       "    <tr>\n",
       "      <th>sexe</th>\n",
       "      <th></th>\n",
       "      <th></th>\n",
       "      <th></th>\n",
       "      <th></th>\n",
       "      <th></th>\n",
       "    </tr>\n",
       "  </thead>\n",
       "  <tbody>\n",
       "    <tr>\n",
       "      <th>F</th>\n",
       "      <td>6</td>\n",
       "      <td>19</td>\n",
       "      <td>32</td>\n",
       "      <td>121</td>\n",
       "      <td>178</td>\n",
       "    </tr>\n",
       "    <tr>\n",
       "      <th>H</th>\n",
       "      <td>3</td>\n",
       "      <td>14</td>\n",
       "      <td>31</td>\n",
       "      <td>74</td>\n",
       "      <td>122</td>\n",
       "    </tr>\n",
       "    <tr>\n",
       "      <th>All</th>\n",
       "      <td>9</td>\n",
       "      <td>33</td>\n",
       "      <td>63</td>\n",
       "      <td>195</td>\n",
       "      <td>300</td>\n",
       "    </tr>\n",
       "  </tbody>\n",
       "</table>\n",
       "</div>"
      ],
      "text/plain": [
       "comment  autre  citron  lait  pur  All\n",
       "sexe                                  \n",
       "F            6      19    32  121  178\n",
       "H            3      14    31   74  122\n",
       "All          9      33    63  195  300"
      ]
     },
     "execution_count": 32,
     "metadata": {},
     "output_type": "execute_result"
    }
   ],
   "source": [
    "#ajout des totaux, le margins ne marche que si il n'y a que des nombres \n",
    "M = pa.crosstab(T['sexe'],T['comment'], margins = True)\n",
    "M"
   ]
  },
  {
   "cell_type": "code",
   "execution_count": 33,
   "id": "7f5b0eee",
   "metadata": {},
   "outputs": [
    {
     "data": {
      "text/plain": [
       "sexe\n",
       "F      0.179775\n",
       "H      0.254098\n",
       "All    0.210000\n",
       "dtype: float64"
      ]
     },
     "execution_count": 33,
     "metadata": {},
     "output_type": "execute_result"
    }
   ],
   "source": [
    "#calcul avec python des fréquences\n",
    "#attention ca ne marche pas si on utilise la transposé de M car il n'aura plus les mêmes colonnes\n",
    "Freq = M['lait']/M['All']\n",
    "Freq"
   ]
  },
  {
   "cell_type": "code",
   "execution_count": 60,
   "id": "6b012827",
   "metadata": {},
   "outputs": [
    {
     "data": {
      "text/plain": [
       "sexe\n",
       "F      121\n",
       "H       74\n",
       "All    195\n",
       "Name: pur, dtype: int64"
      ]
     },
     "execution_count": 60,
     "metadata": {},
     "output_type": "execute_result"
    }
   ],
   "source": [
    "M['pur']"
   ]
  },
  {
   "cell_type": "markdown",
   "id": "9c6ce603",
   "metadata": {},
   "source": [
    "Data Visualisation "
   ]
  },
  {
   "cell_type": "code",
   "execution_count": 38,
   "id": "f6d93bfa",
   "metadata": {},
   "outputs": [],
   "source": [
    "import pylab as pl"
   ]
  },
  {
   "cell_type": "code",
   "execution_count": 57,
   "id": "986a656a",
   "metadata": {},
   "outputs": [
    {
     "data": {
      "text/html": [
       "<div>\n",
       "<style scoped>\n",
       "    .dataframe tbody tr th:only-of-type {\n",
       "        vertical-align: middle;\n",
       "    }\n",
       "\n",
       "    .dataframe tbody tr th {\n",
       "        vertical-align: top;\n",
       "    }\n",
       "\n",
       "    .dataframe thead th {\n",
       "        text-align: right;\n",
       "    }\n",
       "</style>\n",
       "<table border=\"1\" class=\"dataframe\">\n",
       "  <thead>\n",
       "    <tr style=\"text-align: right;\">\n",
       "      <th>sexe</th>\n",
       "      <th>F</th>\n",
       "      <th>H</th>\n",
       "    </tr>\n",
       "    <tr>\n",
       "      <th>comment</th>\n",
       "      <th></th>\n",
       "      <th></th>\n",
       "    </tr>\n",
       "  </thead>\n",
       "  <tbody>\n",
       "    <tr>\n",
       "      <th>autre</th>\n",
       "      <td>6</td>\n",
       "      <td>3</td>\n",
       "    </tr>\n",
       "    <tr>\n",
       "      <th>citron</th>\n",
       "      <td>19</td>\n",
       "      <td>14</td>\n",
       "    </tr>\n",
       "    <tr>\n",
       "      <th>lait</th>\n",
       "      <td>32</td>\n",
       "      <td>31</td>\n",
       "    </tr>\n",
       "    <tr>\n",
       "      <th>pur</th>\n",
       "      <td>121</td>\n",
       "      <td>74</td>\n",
       "    </tr>\n",
       "  </tbody>\n",
       "</table>\n",
       "</div>"
      ],
      "text/plain": [
       "sexe       F   H\n",
       "comment         \n",
       "autre      6   3\n",
       "citron    19  14\n",
       "lait      32  31\n",
       "pur      121  74"
      ]
     },
     "execution_count": 57,
     "metadata": {},
     "output_type": "execute_result"
    },
    {
     "data": {
      "image/png": "[encoded data removed]",
      "text/plain": [
       "<Figure size 640x480 with 1 Axes>"
      ]
     },
     "metadata": {},
     "output_type": "display_data"
    }
   ],
   "source": [
    "pl.pie(E2['H'],\n",
    "        autopct = lambda x : str(int(x)) + '%', \n",
    "        colors = ['#AAA','yellow', 'red', 'blue'], \n",
    "        labels = E.T.index)\n",
    "E2"
   ]
  },
  {
   "cell_type": "code",
   "execution_count": 46,
   "id": "681b14e2",
   "metadata": {},
   "outputs": [
    {
     "name": "stdout",
     "output_type": "stream",
     "text": [
      "Index(['autre', 'citron', 'lait', 'pur'], dtype='object', name='comment') Index(['F', 'H'], dtype='object', name='sexe')\n"
     ]
    }
   ],
   "source": [
    "print(E.T.index, E.index)\n"
   ]
  },
  {
   "cell_type": "code",
   "execution_count": 3,
   "id": "232064be",
   "metadata": {},
   "outputs": [
    {
     "data": {
      "text/html": [
       "<div>\n",
       "<style scoped>\n",
       "    .dataframe tbody tr th:only-of-type {\n",
       "        vertical-align: middle;\n",
       "    }\n",
       "\n",
       "    .dataframe tbody tr th {\n",
       "        vertical-align: top;\n",
       "    }\n",
       "\n",
       "    .dataframe thead th {\n",
       "        text-align: right;\n",
       "    }\n",
       "</style>\n",
       "<table border=\"1\" class=\"dataframe\">\n",
       "  <thead>\n",
       "    <tr style=\"text-align: right;\">\n",
       "      <th></th>\n",
       "      <th>tout_moment</th>\n",
       "      <th>sucre</th>\n",
       "      <th>sportif</th>\n",
       "      <th>age</th>\n",
       "      <th>plus_pour_la_sante</th>\n",
       "    </tr>\n",
       "  </thead>\n",
       "  <tbody>\n",
       "    <tr>\n",
       "      <th>count</th>\n",
       "      <td>300.000000</td>\n",
       "      <td>300.000000</td>\n",
       "      <td>300.000000</td>\n",
       "      <td>300.000000</td>\n",
       "      <td>300.000000</td>\n",
       "    </tr>\n",
       "    <tr>\n",
       "      <th>mean</th>\n",
       "      <td>0.343333</td>\n",
       "      <td>0.483333</td>\n",
       "      <td>0.596667</td>\n",
       "      <td>37.053333</td>\n",
       "      <td>0.700000</td>\n",
       "    </tr>\n",
       "    <tr>\n",
       "      <th>std</th>\n",
       "      <td>0.475615</td>\n",
       "      <td>0.500557</td>\n",
       "      <td>0.491386</td>\n",
       "      <td>16.870463</td>\n",
       "      <td>0.459023</td>\n",
       "    </tr>\n",
       "    <tr>\n",
       "      <th>min</th>\n",
       "      <td>0.000000</td>\n",
       "      <td>0.000000</td>\n",
       "      <td>0.000000</td>\n",
       "      <td>15.000000</td>\n",
       "      <td>0.000000</td>\n",
       "    </tr>\n",
       "    <tr>\n",
       "      <th>25%</th>\n",
       "      <td>0.000000</td>\n",
       "      <td>0.000000</td>\n",
       "      <td>0.000000</td>\n",
       "      <td>23.000000</td>\n",
       "      <td>0.000000</td>\n",
       "    </tr>\n",
       "    <tr>\n",
       "      <th>50%</th>\n",
       "      <td>0.000000</td>\n",
       "      <td>0.000000</td>\n",
       "      <td>1.000000</td>\n",
       "      <td>32.000000</td>\n",
       "      <td>1.000000</td>\n",
       "    </tr>\n",
       "    <tr>\n",
       "      <th>75%</th>\n",
       "      <td>1.000000</td>\n",
       "      <td>1.000000</td>\n",
       "      <td>1.000000</td>\n",
       "      <td>48.000000</td>\n",
       "      <td>1.000000</td>\n",
       "    </tr>\n",
       "    <tr>\n",
       "      <th>max</th>\n",
       "      <td>1.000000</td>\n",
       "      <td>1.000000</td>\n",
       "      <td>1.000000</td>\n",
       "      <td>90.000000</td>\n",
       "      <td>1.000000</td>\n",
       "    </tr>\n",
       "  </tbody>\n",
       "</table>\n",
       "</div>"
      ],
      "text/plain": [
       "       tout_moment       sucre     sportif         age  plus_pour_la_sante\n",
       "count   300.000000  300.000000  300.000000  300.000000          300.000000\n",
       "mean      0.343333    0.483333    0.596667   37.053333            0.700000\n",
       "std       0.475615    0.500557    0.491386   16.870463            0.459023\n",
       "min       0.000000    0.000000    0.000000   15.000000            0.000000\n",
       "25%       0.000000    0.000000    0.000000   23.000000            0.000000\n",
       "50%       0.000000    0.000000    1.000000   32.000000            1.000000\n",
       "75%       1.000000    1.000000    1.000000   48.000000            1.000000\n",
       "max       1.000000    1.000000    1.000000   90.000000            1.000000"
      ]
     },
     "execution_count": 3,
     "metadata": {},
     "output_type": "execute_result"
    }
   ],
   "source": [
    "T.describe()"
   ]
  },
  {
   "cell_type": "code",
   "execution_count": 29,
   "id": "246c5c63",
   "metadata": {},
   "outputs": [
    {
     "data": {
      "text/plain": [
       "array([[<AxesSubplot: ylabel='autre'>, <AxesSubplot: ylabel='citron'>,\n",
       "        <AxesSubplot: ylabel='lait'>, <AxesSubplot: ylabel='pur'>]],\n",
       "      dtype=object)"
      ]
     },
     "execution_count": 29,
     "metadata": {},
     "output_type": "execute_result"
    },
    {
     "data": {
      "image/png": "[encoded data removed]",
      "text/plain": [
       "<Figure size 800x300 with 4 Axes>"
      ]
     },
     "metadata": {},
     "output_type": "display_data"
    }
   ],
   "source": [
    "E.plot.pie(subplots= True,\n",
    "           legend = None,\n",
    "           layout = (1,4),\n",
    "           autopct = lambda x : str(round(x))+ '%',\n",
    "           figsize = (8,3),\n",
    "           colors = ['pink','gray'],\n",
    "           wedgeprops = {'edgecolor':'black'},\n",
    "           fontsize = 14\n",
    "           )"
   ]
  },
  {
   "cell_type": "code",
   "execution_count": 34,
   "id": "308d04b1",
   "metadata": {},
   "outputs": [
    {
     "data": {
      "text/plain": [
       "array([[<AxesSubplot: ylabel='F'>, <AxesSubplot: ylabel='H'>]],\n",
       "      dtype=object)"
      ]
     },
     "execution_count": 34,
     "metadata": {},
     "output_type": "execute_result"
    },
    {
     "data": {
      "image/png": "[encoded data removed]",
      "text/plain": [
       "<Figure size 800x400 with 2 Axes>"
      ]
     },
     "metadata": {},
     "output_type": "display_data"
    }
   ],
   "source": [
    "#pour prendre la transposée pour avoir les évènements conditionelles inverses\n",
    "E.T.plot.pie(subplots= True,\n",
    "           legend = None,\n",
    "           layout = (1,2),\n",
    "           autopct = lambda x : str(round(x))+ '%',\n",
    "           figsize = (8,4),\n",
    "           colors = ['pink','gray','#AAA','lightblue'],\n",
    "           wedgeprops = {'edgecolor':'black'},\n",
    "           fontsize = 14\n",
    "           )"
   ]
  },
  {
   "cell_type": "code",
   "execution_count": 43,
   "id": "fd32ff7d",
   "metadata": {},
   "outputs": [
    {
     "name": "stderr",
     "output_type": "stream",
     "text": [
      "/tmp/ipykernel_5426/635305515.py:1: FutureWarning: The default value of numeric_only in DataFrameGroupBy.sum is deprecated. In a future version, numeric_only will default to False. Either specify numeric_only or select only columns which should be valid for the function.\n",
      "  T.groupby('sexe').sum()\n"
     ]
    },
    {
     "data": {
      "text/html": [
       "<div>\n",
       "<style scoped>\n",
       "    .dataframe tbody tr th:only-of-type {\n",
       "        vertical-align: middle;\n",
       "    }\n",
       "\n",
       "    .dataframe tbody tr th {\n",
       "        vertical-align: top;\n",
       "    }\n",
       "\n",
       "    .dataframe thead th {\n",
       "        text-align: right;\n",
       "    }\n",
       "</style>\n",
       "<table border=\"1\" class=\"dataframe\">\n",
       "  <thead>\n",
       "    <tr style=\"text-align: right;\">\n",
       "      <th></th>\n",
       "      <th>tout_moment</th>\n",
       "      <th>sucre</th>\n",
       "      <th>sportif</th>\n",
       "      <th>age</th>\n",
       "      <th>plus_pour_la_sante</th>\n",
       "    </tr>\n",
       "    <tr>\n",
       "      <th>sexe</th>\n",
       "      <th></th>\n",
       "      <th></th>\n",
       "      <th></th>\n",
       "      <th></th>\n",
       "      <th></th>\n",
       "    </tr>\n",
       "  </thead>\n",
       "  <tbody>\n",
       "    <tr>\n",
       "      <th>F</th>\n",
       "      <td>63</td>\n",
       "      <td>71</td>\n",
       "      <td>97</td>\n",
       "      <td>6649</td>\n",
       "      <td>127</td>\n",
       "    </tr>\n",
       "    <tr>\n",
       "      <th>H</th>\n",
       "      <td>40</td>\n",
       "      <td>74</td>\n",
       "      <td>82</td>\n",
       "      <td>4467</td>\n",
       "      <td>83</td>\n",
       "    </tr>\n",
       "  </tbody>\n",
       "</table>\n",
       "</div>"
      ],
      "text/plain": [
       "      tout_moment  sucre  sportif   age  plus_pour_la_sante\n",
       "sexe                                                       \n",
       "F              63     71       97  6649                 127\n",
       "H              40     74       82  4467                  83"
      ]
     },
     "execution_count": 43,
     "metadata": {},
     "output_type": "execute_result"
    }
   ],
   "source": [
    "T.groupby('sexe').sum()"
   ]
  },
  {
   "cell_type": "code",
   "execution_count": 69,
   "id": "e3cc9672",
   "metadata": {
    "scrolled": true
   },
   "outputs": [
    {
     "data": {
      "text/html": [
       "<div>\n",
       "<style scoped>\n",
       "    .dataframe tbody tr th:only-of-type {\n",
       "        vertical-align: middle;\n",
       "    }\n",
       "\n",
       "    .dataframe tbody tr th {\n",
       "        vertical-align: top;\n",
       "    }\n",
       "\n",
       "    .dataframe thead tr th {\n",
       "        text-align: left;\n",
       "    }\n",
       "\n",
       "    .dataframe thead tr:last-of-type th {\n",
       "        text-align: right;\n",
       "    }\n",
       "</style>\n",
       "<table border=\"1\" class=\"dataframe\">\n",
       "  <thead>\n",
       "    <tr>\n",
       "      <th></th>\n",
       "      <th colspan=\"8\" halign=\"left\">tout_moment</th>\n",
       "      <th colspan=\"2\" halign=\"left\">sucre</th>\n",
       "      <th>...</th>\n",
       "      <th colspan=\"2\" halign=\"left\">age</th>\n",
       "      <th colspan=\"8\" halign=\"left\">plus_pour_la_sante</th>\n",
       "    </tr>\n",
       "    <tr>\n",
       "      <th></th>\n",
       "      <th>count</th>\n",
       "      <th>mean</th>\n",
       "      <th>std</th>\n",
       "      <th>min</th>\n",
       "      <th>25%</th>\n",
       "      <th>50%</th>\n",
       "      <th>75%</th>\n",
       "      <th>max</th>\n",
       "      <th>count</th>\n",
       "      <th>mean</th>\n",
       "      <th>...</th>\n",
       "      <th>75%</th>\n",
       "      <th>max</th>\n",
       "      <th>count</th>\n",
       "      <th>mean</th>\n",
       "      <th>std</th>\n",
       "      <th>min</th>\n",
       "      <th>25%</th>\n",
       "      <th>50%</th>\n",
       "      <th>75%</th>\n",
       "      <th>max</th>\n",
       "    </tr>\n",
       "    <tr>\n",
       "      <th>sexe</th>\n",
       "      <th></th>\n",
       "      <th></th>\n",
       "      <th></th>\n",
       "      <th></th>\n",
       "      <th></th>\n",
       "      <th></th>\n",
       "      <th></th>\n",
       "      <th></th>\n",
       "      <th></th>\n",
       "      <th></th>\n",
       "      <th></th>\n",
       "      <th></th>\n",
       "      <th></th>\n",
       "      <th></th>\n",
       "      <th></th>\n",
       "      <th></th>\n",
       "      <th></th>\n",
       "      <th></th>\n",
       "      <th></th>\n",
       "      <th></th>\n",
       "      <th></th>\n",
       "    </tr>\n",
       "  </thead>\n",
       "  <tbody>\n",
       "    <tr>\n",
       "      <th>F</th>\n",
       "      <td>178.0</td>\n",
       "      <td>0.353933</td>\n",
       "      <td>0.479537</td>\n",
       "      <td>0.0</td>\n",
       "      <td>0.0</td>\n",
       "      <td>0.0</td>\n",
       "      <td>1.0</td>\n",
       "      <td>1.0</td>\n",
       "      <td>178.0</td>\n",
       "      <td>0.398876</td>\n",
       "      <td>...</td>\n",
       "      <td>49.0</td>\n",
       "      <td>90.0</td>\n",
       "      <td>178.0</td>\n",
       "      <td>0.713483</td>\n",
       "      <td>0.453409</td>\n",
       "      <td>0.0</td>\n",
       "      <td>0.0</td>\n",
       "      <td>1.0</td>\n",
       "      <td>1.0</td>\n",
       "      <td>1.0</td>\n",
       "    </tr>\n",
       "    <tr>\n",
       "      <th>H</th>\n",
       "      <td>122.0</td>\n",
       "      <td>0.327869</td>\n",
       "      <td>0.471373</td>\n",
       "      <td>0.0</td>\n",
       "      <td>0.0</td>\n",
       "      <td>0.0</td>\n",
       "      <td>1.0</td>\n",
       "      <td>1.0</td>\n",
       "      <td>122.0</td>\n",
       "      <td>0.606557</td>\n",
       "      <td>...</td>\n",
       "      <td>48.0</td>\n",
       "      <td>78.0</td>\n",
       "      <td>122.0</td>\n",
       "      <td>0.680328</td>\n",
       "      <td>0.468273</td>\n",
       "      <td>0.0</td>\n",
       "      <td>0.0</td>\n",
       "      <td>1.0</td>\n",
       "      <td>1.0</td>\n",
       "      <td>1.0</td>\n",
       "    </tr>\n",
       "  </tbody>\n",
       "</table>\n",
       "<p>2 rows × 40 columns</p>\n",
       "</div>"
      ],
      "text/plain": [
       "     tout_moment                                               sucre  \\\n",
       "           count      mean       std  min  25%  50%  75%  max  count   \n",
       "sexe                                                                   \n",
       "F          178.0  0.353933  0.479537  0.0  0.0  0.0  1.0  1.0  178.0   \n",
       "H          122.0  0.327869  0.471373  0.0  0.0  0.0  1.0  1.0  122.0   \n",
       "\n",
       "                ...   age       plus_pour_la_sante                           \\\n",
       "          mean  ...   75%   max              count      mean       std  min   \n",
       "sexe            ...                                                           \n",
       "F     0.398876  ...  49.0  90.0              178.0  0.713483  0.453409  0.0   \n",
       "H     0.606557  ...  48.0  78.0              122.0  0.680328  0.468273  0.0   \n",
       "\n",
       "                          \n",
       "      25%  50%  75%  max  \n",
       "sexe                      \n",
       "F     0.0  1.0  1.0  1.0  \n",
       "H     0.0  1.0  1.0  1.0  \n",
       "\n",
       "[2 rows x 40 columns]"
      ]
     },
     "execution_count": 69,
     "metadata": {},
     "output_type": "execute_result"
    }
   ],
   "source": [
    "T.groupby('sexe').describe()"
   ]
  },
  {
   "cell_type": "code",
   "execution_count": 45,
   "id": "d4a0e4c1",
   "metadata": {},
   "outputs": [
    {
     "name": "stderr",
     "output_type": "stream",
     "text": [
      "/tmp/ipykernel_5426/1732999947.py:1: FutureWarning: The default value of numeric_only in DataFrameGroupBy.mean is deprecated. In a future version, numeric_only will default to False. Either specify numeric_only or select only columns which should be valid for the function.\n",
      "  T.groupby(['sexe','sucre']).mean()\n"
     ]
    },
    {
     "data": {
      "text/html": [
       "<div>\n",
       "<style scoped>\n",
       "    .dataframe tbody tr th:only-of-type {\n",
       "        vertical-align: middle;\n",
       "    }\n",
       "\n",
       "    .dataframe tbody tr th {\n",
       "        vertical-align: top;\n",
       "    }\n",
       "\n",
       "    .dataframe thead th {\n",
       "        text-align: right;\n",
       "    }\n",
       "</style>\n",
       "<table border=\"1\" class=\"dataframe\">\n",
       "  <thead>\n",
       "    <tr style=\"text-align: right;\">\n",
       "      <th></th>\n",
       "      <th></th>\n",
       "      <th>tout_moment</th>\n",
       "      <th>sportif</th>\n",
       "      <th>age</th>\n",
       "      <th>plus_pour_la_sante</th>\n",
       "    </tr>\n",
       "    <tr>\n",
       "      <th>sexe</th>\n",
       "      <th>sucre</th>\n",
       "      <th></th>\n",
       "      <th></th>\n",
       "      <th></th>\n",
       "      <th></th>\n",
       "    </tr>\n",
       "  </thead>\n",
       "  <tbody>\n",
       "    <tr>\n",
       "      <th rowspan=\"2\" valign=\"top\">F</th>\n",
       "      <th>0</th>\n",
       "      <td>0.336449</td>\n",
       "      <td>0.551402</td>\n",
       "      <td>40.757009</td>\n",
       "      <td>0.757009</td>\n",
       "    </tr>\n",
       "    <tr>\n",
       "      <th>1</th>\n",
       "      <td>0.380282</td>\n",
       "      <td>0.535211</td>\n",
       "      <td>32.225352</td>\n",
       "      <td>0.647887</td>\n",
       "    </tr>\n",
       "    <tr>\n",
       "      <th rowspan=\"2\" valign=\"top\">H</th>\n",
       "      <th>0</th>\n",
       "      <td>0.312500</td>\n",
       "      <td>0.645833</td>\n",
       "      <td>41.145833</td>\n",
       "      <td>0.687500</td>\n",
       "    </tr>\n",
       "    <tr>\n",
       "      <th>1</th>\n",
       "      <td>0.337838</td>\n",
       "      <td>0.689189</td>\n",
       "      <td>33.675676</td>\n",
       "      <td>0.675676</td>\n",
       "    </tr>\n",
       "  </tbody>\n",
       "</table>\n",
       "</div>"
      ],
      "text/plain": [
       "            tout_moment   sportif        age  plus_pour_la_sante\n",
       "sexe sucre                                                      \n",
       "F    0         0.336449  0.551402  40.757009            0.757009\n",
       "     1         0.380282  0.535211  32.225352            0.647887\n",
       "H    0         0.312500  0.645833  41.145833            0.687500\n",
       "     1         0.337838  0.689189  33.675676            0.675676"
      ]
     },
     "execution_count": 45,
     "metadata": {},
     "output_type": "execute_result"
    }
   ],
   "source": [
    "T.groupby(['sexe','sucre']).mean()\n",
    "#sachant l'intersection de deux évènements, calcul de la proba condi"
   ]
  },
  {
   "cell_type": "code",
   "execution_count": 50,
   "id": "2b5b80d9",
   "metadata": {},
   "outputs": [],
   "source": [
    "P = pa.read_csv('prix_m2_france.csv')\n",
    "S= P.query('pop>200')"
   ]
  },
  {
   "cell_type": "code",
   "execution_count": 52,
   "id": "4bcdcf52",
   "metadata": {},
   "outputs": [
    {
     "data": {
      "text/html": [
       "<div>\n",
       "<style scoped>\n",
       "    .dataframe tbody tr th:only-of-type {\n",
       "        vertical-align: middle;\n",
       "    }\n",
       "\n",
       "    .dataframe tbody tr th {\n",
       "        vertical-align: top;\n",
       "    }\n",
       "\n",
       "    .dataframe thead th {\n",
       "        text-align: right;\n",
       "    }\n",
       "</style>\n",
       "<table border=\"1\" class=\"dataframe\">\n",
       "  <thead>\n",
       "    <tr style=\"text-align: right;\">\n",
       "      <th></th>\n",
       "      <th>reg</th>\n",
       "      <th>pop</th>\n",
       "      <th>ventes</th>\n",
       "      <th>prix</th>\n",
       "    </tr>\n",
       "  </thead>\n",
       "  <tbody>\n",
       "    <tr>\n",
       "      <th>count</th>\n",
       "      <td>26083.000000</td>\n",
       "      <td>2.608300e+04</td>\n",
       "      <td>22432.000000</td>\n",
       "      <td>22432.000000</td>\n",
       "    </tr>\n",
       "    <tr>\n",
       "      <th>mean</th>\n",
       "      <td>52.356171</td>\n",
       "      <td>2.569136e+03</td>\n",
       "      <td>29.005706</td>\n",
       "      <td>1702.510209</td>\n",
       "    </tr>\n",
       "    <tr>\n",
       "      <th>std</th>\n",
       "      <td>24.479502</td>\n",
       "      <td>1.776834e+04</td>\n",
       "      <td>140.593311</td>\n",
       "      <td>875.544853</td>\n",
       "    </tr>\n",
       "    <tr>\n",
       "      <th>min</th>\n",
       "      <td>11.000000</td>\n",
       "      <td>2.010000e+02</td>\n",
       "      <td>1.000000</td>\n",
       "      <td>351.000000</td>\n",
       "    </tr>\n",
       "    <tr>\n",
       "      <th>25%</th>\n",
       "      <td>28.000000</td>\n",
       "      <td>3.690000e+02</td>\n",
       "      <td>3.000000</td>\n",
       "      <td>1157.000000</td>\n",
       "    </tr>\n",
       "    <tr>\n",
       "      <th>50%</th>\n",
       "      <td>44.000000</td>\n",
       "      <td>6.920000e+02</td>\n",
       "      <td>7.000000</td>\n",
       "      <td>1502.000000</td>\n",
       "    </tr>\n",
       "    <tr>\n",
       "      <th>75%</th>\n",
       "      <td>76.000000</td>\n",
       "      <td>1.586500e+03</td>\n",
       "      <td>17.000000</td>\n",
       "      <td>1999.000000</td>\n",
       "    </tr>\n",
       "    <tr>\n",
       "      <th>max</th>\n",
       "      <td>94.000000</td>\n",
       "      <td>2.190327e+06</td>\n",
       "      <td>7411.000000</td>\n",
       "      <td>11965.000000</td>\n",
       "    </tr>\n",
       "  </tbody>\n",
       "</table>\n",
       "</div>"
      ],
      "text/plain": [
       "                reg           pop        ventes          prix\n",
       "count  26083.000000  2.608300e+04  22432.000000  22432.000000\n",
       "mean      52.356171  2.569136e+03     29.005706   1702.510209\n",
       "std       24.479502  1.776834e+04    140.593311    875.544853\n",
       "min       11.000000  2.010000e+02      1.000000    351.000000\n",
       "25%       28.000000  3.690000e+02      3.000000   1157.000000\n",
       "50%       44.000000  6.920000e+02      7.000000   1502.000000\n",
       "75%       76.000000  1.586500e+03     17.000000   1999.000000\n",
       "max       94.000000  2.190327e+06   7411.000000  11965.000000"
      ]
     },
     "execution_count": 52,
     "metadata": {},
     "output_type": "execute_result"
    }
   ],
   "source": [
    "S.describe()\n"
   ]
  },
  {
   "cell_type": "code",
   "execution_count": 53,
   "id": "dfb40e7a",
   "metadata": {},
   "outputs": [
    {
     "data": {
      "text/plain": [
       "count    22432.000000\n",
       "mean      1702.510209\n",
       "std        875.544853\n",
       "min        351.000000\n",
       "25%       1157.000000\n",
       "50%       1502.000000\n",
       "75%       1999.000000\n",
       "max      11965.000000\n",
       "Name: prix, dtype: float64"
      ]
     },
     "execution_count": 53,
     "metadata": {},
     "output_type": "execute_result"
    }
   ],
   "source": [
    "S['prix'].describe()"
   ]
  },
  {
   "cell_type": "code",
   "execution_count": 62,
   "id": "9ae3fcfa",
   "metadata": {},
   "outputs": [
    {
     "data": {
      "text/html": [
       "<div>\n",
       "<style scoped>\n",
       "    .dataframe tbody tr th:only-of-type {\n",
       "        vertical-align: middle;\n",
       "    }\n",
       "\n",
       "    .dataframe tbody tr th {\n",
       "        vertical-align: top;\n",
       "    }\n",
       "\n",
       "    .dataframe thead th {\n",
       "        text-align: right;\n",
       "    }\n",
       "</style>\n",
       "<table border=\"1\" class=\"dataframe\">\n",
       "  <thead>\n",
       "    <tr style=\"text-align: right;\">\n",
       "      <th></th>\n",
       "      <th>com</th>\n",
       "      <th>dep</th>\n",
       "      <th>reg</th>\n",
       "      <th>nom</th>\n",
       "      <th>pop</th>\n",
       "      <th>ventes</th>\n",
       "      <th>prix</th>\n",
       "    </tr>\n",
       "  </thead>\n",
       "  <tbody>\n",
       "    <tr>\n",
       "      <th>25922</th>\n",
       "      <td>76460</td>\n",
       "      <td>76</td>\n",
       "      <td>28</td>\n",
       "      <td>NESLE NORMANDEUSE</td>\n",
       "      <td>568</td>\n",
       "      <td>1.0</td>\n",
       "      <td>351.0</td>\n",
       "    </tr>\n",
       "    <tr>\n",
       "      <th>26536</th>\n",
       "      <td>8415</td>\n",
       "      <td>8</td>\n",
       "      <td>44</td>\n",
       "      <td>SERY</td>\n",
       "      <td>360</td>\n",
       "      <td>1.0</td>\n",
       "      <td>351.0</td>\n",
       "    </tr>\n",
       "    <tr>\n",
       "      <th>34347</th>\n",
       "      <td>21042</td>\n",
       "      <td>21</td>\n",
       "      <td>27</td>\n",
       "      <td>BAGNOT</td>\n",
       "      <td>160</td>\n",
       "      <td>1.0</td>\n",
       "      <td>351.0</td>\n",
       "    </tr>\n",
       "  </tbody>\n",
       "</table>\n",
       "</div>"
      ],
      "text/plain": [
       "         com dep  reg                nom  pop  ventes   prix\n",
       "25922  76460  76   28  NESLE NORMANDEUSE  568     1.0  351.0\n",
       "26536   8415   8   44               SERY  360     1.0  351.0\n",
       "34347  21042  21   27             BAGNOT  160     1.0  351.0"
      ]
     },
     "execution_count": 62,
     "metadata": {},
     "output_type": "execute_result"
    }
   ],
   "source": [
    "len(P.query('prix > 10000')),P.query('prix > 10000')\n",
    "P.query('prix == 351')"
   ]
  },
  {
   "cell_type": "code",
   "execution_count": 63,
   "id": "2706b94e",
   "metadata": {},
   "outputs": [],
   "source": []
  },
  {
   "cell_type": "code",
   "execution_count": 64,
   "id": "329f83f1",
   "metadata": {},
   "outputs": [
    {
     "data": {
      "text/plain": [
       "<AxesSubplot: xlabel='prix'>"
      ]
     },
     "execution_count": 64,
     "metadata": {},
     "output_type": "execute_result"
    },
    {
     "data": {
      "image/png": "[encoded data removed]",
      "text/plain": [
       "<Figure size 600x200 with 1 Axes>"
      ]
     },
     "metadata": {},
     "output_type": "display_data"
    }
   ],
   "source": [
    "#boite à moustache \n",
    "import pylab as pl\n",
    "pl.style.use('bmh')\n",
    "\n",
    "import seaborn as sn\n",
    "\n",
    "pl.figure(figsize = (6,2))\n",
    "sn.boxplot(x = 'prix',\n",
    "          data = S, \n",
    "          showmeans = True, \n",
    "          whis= [0,100],\n",
    "          color = 'white',\n",
    "          meanprops = {'marker' : 's',\n",
    "                      'markerfacecolor': 'black',\n",
    "                      'markeredgecolor' : 'black'}\n",
    "          )"
   ]
  },
  {
   "cell_type": "code",
   "execution_count": 87,
   "id": "b164e36d",
   "metadata": {},
   "outputs": [
    {
     "data": {
      "text/plain": [
       "14803.0"
      ]
     },
     "execution_count": 87,
     "metadata": {},
     "output_type": "execute_result"
    }
   ],
   "source": [
    "#utilisation du groupby\n",
    "import numpy as np\n",
    "A = P.groupby('reg')['prix'].describe()\n",
    "p1 = np.max(A['max'])\n",
    "p1"
   ]
  },
  {
   "cell_type": "code",
   "execution_count": 88,
   "id": "9e2559e8",
   "metadata": {},
   "outputs": [
    {
     "data": {
      "text/html": [
       "<div>\n",
       "<style scoped>\n",
       "    .dataframe tbody tr th:only-of-type {\n",
       "        vertical-align: middle;\n",
       "    }\n",
       "\n",
       "    .dataframe tbody tr th {\n",
       "        vertical-align: top;\n",
       "    }\n",
       "\n",
       "    .dataframe thead th {\n",
       "        text-align: right;\n",
       "    }\n",
       "</style>\n",
       "<table border=\"1\" class=\"dataframe\">\n",
       "  <thead>\n",
       "    <tr style=\"text-align: right;\">\n",
       "      <th></th>\n",
       "      <th>count</th>\n",
       "      <th>mean</th>\n",
       "      <th>std</th>\n",
       "      <th>min</th>\n",
       "      <th>25%</th>\n",
       "      <th>50%</th>\n",
       "      <th>75%</th>\n",
       "      <th>max</th>\n",
       "    </tr>\n",
       "    <tr>\n",
       "      <th>reg</th>\n",
       "      <th></th>\n",
       "      <th></th>\n",
       "      <th></th>\n",
       "      <th></th>\n",
       "      <th></th>\n",
       "      <th></th>\n",
       "      <th></th>\n",
       "      <th></th>\n",
       "    </tr>\n",
       "  </thead>\n",
       "  <tbody>\n",
       "    <tr>\n",
       "      <th>27</th>\n",
       "      <td>2594.0</td>\n",
       "      <td>1323.654588</td>\n",
       "      <td>621.842159</td>\n",
       "      <td>351.0</td>\n",
       "      <td>951.0</td>\n",
       "      <td>1225.0</td>\n",
       "      <td>1590.75</td>\n",
       "      <td>14803.0</td>\n",
       "    </tr>\n",
       "  </tbody>\n",
       "</table>\n",
       "</div>"
      ],
      "text/plain": [
       "      count         mean         std    min    25%     50%      75%      max\n",
       "reg                                                                         \n",
       "27   2594.0  1323.654588  621.842159  351.0  951.0  1225.0  1590.75  14803.0"
      ]
     },
     "execution_count": 88,
     "metadata": {},
     "output_type": "execute_result"
    }
   ],
   "source": [
    "A.query('max == 14803')"
   ]
  },
  {
   "cell_type": "code",
   "execution_count": 91,
   "id": "5bdc8e44",
   "metadata": {},
   "outputs": [
    {
     "data": {
      "text/plain": [
       "<AxesSubplot: xlabel='reg', ylabel='prix'>"
      ]
     },
     "execution_count": 91,
     "metadata": {},
     "output_type": "execute_result"
    },
    {
     "data": {
      "image/png": "[encoded data removed]",
      "text/plain": [
       "<Figure size 800x400 with 1 Axes>"
      ]
     },
     "metadata": {},
     "output_type": "display_data"
    }
   ],
   "source": [
    "pl.figure(figsize = (8,4))\n",
    "sn.boxplot(x = 'reg',\n",
    "           y = 'prix',\n",
    "          data = S, \n",
    "          showmeans = True, \n",
    "          whis= [0,100],\n",
    "          color = 'white',\n",
    "          meanprops = {'marker' : 's',\n",
    "                      'markerfacecolor': 'black',\n",
    "                      'markeredgecolor' : 'black'}\n",
    "          )"
   ]
  },
  {
   "cell_type": "code",
   "execution_count": 94,
   "id": "c615185f",
   "metadata": {},
   "outputs": [
    {
     "name": "stderr",
     "output_type": "stream",
     "text": [
      "/tmp/ipykernel_5426/881341476.py:2: SettingWithCopyWarning: \n",
      "A value is trying to be set on a copy of a slice from a DataFrame.\n",
      "Try using .loc[row_indexer,col_indexer] = value instead\n",
      "\n",
      "See the caveats in the documentation: https://pandas.pydata.org/pandas-docs/stable/user_guide/indexing.html#returning-a-view-versus-a-copy\n",
      "  S['grande'] = S['pop'].apply(lambda x :1\n"
     ]
    }
   ],
   "source": [
    "#création d'une colonne à S d'un nouveau KPI qui  vaut 0 si la ville est petite 1 si grande critère >20000\n",
    "S['grande'] = S['pop'].apply(lambda x :1\n",
    "                            if x >= 20000 else 0)"
   ]
  },
  {
   "cell_type": "code",
   "execution_count": 98,
   "id": "4d02d03a",
   "metadata": {},
   "outputs": [
    {
     "data": {
      "text/plain": [
       "<AxesSubplot: xlabel='reg', ylabel='prix'>"
      ]
     },
     "execution_count": 98,
     "metadata": {},
     "output_type": "execute_result"
    },
    {
     "data": {
      "image/png": "[encoded data removed]",
      "text/plain": [
       "<Figure size 900x400 with 1 Axes>"
      ]
     },
     "metadata": {},
     "output_type": "display_data"
    }
   ],
   "source": [
    "pl.figure(figsize = (9,4))\n",
    "sn.boxplot(x = 'reg',\n",
    "           y = 'prix',\n",
    "          data = S, \n",
    "          hue = 'grande',\n",
    "          showmeans = True, \n",
    "          whis= [0,100],\n",
    "          palette = ['white','red'], \n",
    "          meanprops = {'marker' : 's',\n",
    "                      'markerfacecolor': 'black',\n",
    "                      'markeredgecolor' : 'black'}\n",
    "          )"
   ]
  },
  {
   "cell_type": "code",
   "execution_count": null,
   "id": "ae840456",
   "metadata": {},
   "outputs": [],
   "source": []
  }
 ],
 "metadata": {
  "kernelspec": {
   "display_name": "Python 3 (ipykernel)",
   "language": "python",
   "name": "python3"
  },
  "language_info": {
   "codemirror_mode": {
    "name": "ipython",
    "version": 3
   },
   "file_extension": ".py",
   "mimetype": "text/x-python",
   "name": "python",
   "nbconvert_exporter": "python",
   "pygments_lexer": "ipython3",
   "version": "3.8.15"
  }
 },
 "nbformat": 4,
 "nbformat_minor": 5
}
