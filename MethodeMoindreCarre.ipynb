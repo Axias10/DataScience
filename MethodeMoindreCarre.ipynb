{
 "cells": [
  {
   "cell_type": "code",
   "execution_count": 82,
   "metadata": {},
   "outputs": [],
   "source": [
    "import matplotlib.pyplot as plt\n",
    "import pandas as pa\n",
    "import numpy as np\n",
    "import seaborn as sn\n",
    "#Idée à retenir : on normalise loi normal puis on trace la reg lin yn = cov(nx,ny)*xn trouver la droite des normalisés\n",
    "#afin d'obtenir a la fin Y = aX + b a = rho*sY/sX et b = mY-mx*a"
   ]
  },
  {
   "cell_type": "code",
   "execution_count": 4,
   "metadata": {},
   "outputs": [
    {
     "data": {
      "text/html": [
       "<div>\n",
       "<style scoped>\n",
       "    .dataframe tbody tr th:only-of-type {\n",
       "        vertical-align: middle;\n",
       "    }\n",
       "\n",
       "    .dataframe tbody tr th {\n",
       "        vertical-align: top;\n",
       "    }\n",
       "\n",
       "    .dataframe thead th {\n",
       "        text-align: right;\n",
       "    }\n",
       "</style>\n",
       "<table border=\"1\" class=\"dataframe\">\n",
       "  <thead>\n",
       "    <tr style=\"text-align: right;\">\n",
       "      <th></th>\n",
       "      <th>X</th>\n",
       "      <th>Y</th>\n",
       "      <th>YCelsius</th>\n",
       "    </tr>\n",
       "  </thead>\n",
       "  <tbody>\n",
       "    <tr>\n",
       "      <th>0</th>\n",
       "      <td>20.000000</td>\n",
       "      <td>88.599998</td>\n",
       "      <td>31.444444</td>\n",
       "    </tr>\n",
       "    <tr>\n",
       "      <th>1</th>\n",
       "      <td>16.000000</td>\n",
       "      <td>71.599998</td>\n",
       "      <td>21.999999</td>\n",
       "    </tr>\n",
       "    <tr>\n",
       "      <th>2</th>\n",
       "      <td>19.799999</td>\n",
       "      <td>93.300003</td>\n",
       "      <td>34.055557</td>\n",
       "    </tr>\n",
       "    <tr>\n",
       "      <th>3</th>\n",
       "      <td>18.400000</td>\n",
       "      <td>84.300003</td>\n",
       "      <td>29.055557</td>\n",
       "    </tr>\n",
       "    <tr>\n",
       "      <th>4</th>\n",
       "      <td>17.100000</td>\n",
       "      <td>80.599998</td>\n",
       "      <td>26.999999</td>\n",
       "    </tr>\n",
       "    <tr>\n",
       "      <th>5</th>\n",
       "      <td>15.500000</td>\n",
       "      <td>75.199997</td>\n",
       "      <td>23.999998</td>\n",
       "    </tr>\n",
       "    <tr>\n",
       "      <th>6</th>\n",
       "      <td>14.700000</td>\n",
       "      <td>69.699997</td>\n",
       "      <td>20.944443</td>\n",
       "    </tr>\n",
       "    <tr>\n",
       "      <th>7</th>\n",
       "      <td>17.100000</td>\n",
       "      <td>82.000000</td>\n",
       "      <td>27.777778</td>\n",
       "    </tr>\n",
       "    <tr>\n",
       "      <th>8</th>\n",
       "      <td>15.400000</td>\n",
       "      <td>69.400002</td>\n",
       "      <td>20.777779</td>\n",
       "    </tr>\n",
       "    <tr>\n",
       "      <th>9</th>\n",
       "      <td>16.200001</td>\n",
       "      <td>83.300003</td>\n",
       "      <td>28.500002</td>\n",
       "    </tr>\n",
       "    <tr>\n",
       "      <th>10</th>\n",
       "      <td>15.000000</td>\n",
       "      <td>79.599998</td>\n",
       "      <td>26.444444</td>\n",
       "    </tr>\n",
       "    <tr>\n",
       "      <th>11</th>\n",
       "      <td>17.200001</td>\n",
       "      <td>82.599998</td>\n",
       "      <td>28.111110</td>\n",
       "    </tr>\n",
       "    <tr>\n",
       "      <th>12</th>\n",
       "      <td>16.000000</td>\n",
       "      <td>80.599998</td>\n",
       "      <td>26.999999</td>\n",
       "    </tr>\n",
       "    <tr>\n",
       "      <th>13</th>\n",
       "      <td>17.000000</td>\n",
       "      <td>83.500000</td>\n",
       "      <td>28.611111</td>\n",
       "    </tr>\n",
       "    <tr>\n",
       "      <th>14</th>\n",
       "      <td>14.400000</td>\n",
       "      <td>76.300003</td>\n",
       "      <td>24.611113</td>\n",
       "    </tr>\n",
       "  </tbody>\n",
       "</table>\n",
       "</div>"
      ],
      "text/plain": [
       "            X          Y   YCelsius\n",
       "0   20.000000  88.599998  31.444444\n",
       "1   16.000000  71.599998  21.999999\n",
       "2   19.799999  93.300003  34.055557\n",
       "3   18.400000  84.300003  29.055557\n",
       "4   17.100000  80.599998  26.999999\n",
       "5   15.500000  75.199997  23.999998\n",
       "6   14.700000  69.699997  20.944443\n",
       "7   17.100000  82.000000  27.777778\n",
       "8   15.400000  69.400002  20.777779\n",
       "9   16.200001  83.300003  28.500002\n",
       "10  15.000000  79.599998  26.444444\n",
       "11  17.200001  82.599998  28.111110\n",
       "12  16.000000  80.599998  26.999999\n",
       "13  17.000000  83.500000  28.611111\n",
       "14  14.400000  76.300003  24.611113"
      ]
     },
     "execution_count": 4,
     "metadata": {},
     "output_type": "execute_result"
    }
   ],
   "source": [
    "T = pa.read_csv('criquets.csv')\n",
    "T['YCelsius'] = (T['Y']-32)*5/9\n",
    "# X nb de stridulations d'un criquet par minute et Y température en farenheit\n",
    "T"
   ]
  },
  {
   "cell_type": "code",
   "execution_count": 14,
   "metadata": {},
   "outputs": [
    {
     "data": {
      "text/plain": [
       "<matplotlib.lines.Line2D at 0x7b21b38977d0>"
      ]
     },
     "execution_count": 14,
     "metadata": {},
     "output_type": "execute_result"
    },
    {
     "data": {
      "image/png": "[encoded data removed]",
      "text/plain": [
       "<Figure size 432x288 with 1 Axes>"
      ]
     },
     "metadata": {
      "needs_background": "light"
     },
     "output_type": "display_data"
    }
   ],
   "source": [
    "plt.scatter(x= T['X'],y=T['YCelsius'])\n",
    "#tracer juste une droite plt.plot([14, 20], [21, 34])\n",
    "plt.axhline(y = 28,color = 'gray')\n",
    "plt.axvline(x = 17,color = 'gray')\n",
    "#remarque la droite est a pente positive donc on voit que la covariance est positive (si nul ça fait une parabole)"
   ]
  },
  {
   "cell_type": "code",
   "execution_count": 20,
   "metadata": {},
   "outputs": [],
   "source": [
    "mX = T.mean()[0]\n",
    "mY = T.mean()[2]\n",
    "sX = T.std(ddof=0)[0]\n",
    "sY = T.std(ddof=0)[2]"
   ]
  },
  {
   "cell_type": "code",
   "execution_count": 29,
   "metadata": {},
   "outputs": [
    {
     "data": {
      "image/png": "[encoded data removed]",
      "text/plain": [
       "<Figure size 432x288 with 1 Axes>"
      ]
     },
     "metadata": {
      "needs_background": "light"
     },
     "output_type": "display_data"
    }
   ],
   "source": [
    "#la droite de regession lineaire passe par le G le point moyen de coordonnée (mX,mY)\n",
    "#créeons la loi normale sur X et Y comme ça le coef de corrélation vaut rho = cov(NX,NY)\n",
    "T['NX'] = (T['X']-mX)/sX\n",
    "T['NY'] = (T['YCelsius']-mY)/sY\n",
    "plt.scatter(x= T['NX'],y=T['NY'])\n",
    "cov = (T['NX']*T['NY']).mean()"
   ]
  },
  {
   "cell_type": "code",
   "execution_count": 48,
   "metadata": {},
   "outputs": [],
   "source": [
    "#Objectif ici est de rendre rm= somme de (yi-mxi)**2 le plus faible pour que la droite y = mx ajuste au mieux \n",
    "#le nuage de point de coordonnée (xi,yi) -> regression lineaire 1\n",
    "\n",
    "def R(m) :\n",
    "    carre = (T['NY']-m*T['NX'])**2\n",
    "    return carre.sum()\n",
    "\n",
    "def min(liste):\n",
    "    min = liste[0]\n",
    "    ind = 0\n",
    "    longueur=len(liste)\n",
    "    for i in range(longueur):\n",
    "        if liste[i] <= min:\n",
    "            min = liste[i]\n",
    "            ind += 1\n",
    "    return min, ind\n",
    "\n",
    "m = list(np.linspace(0,2,50))\n",
    "L = []\n",
    "for element in m:\n",
    "    L.append(R(element))"
   ]
  },
  {
   "cell_type": "code",
   "execution_count": 40,
   "metadata": {},
   "outputs": [
    {
     "data": {
      "text/plain": [
       "[<matplotlib.lines.Line2D at 0x7b21b3575b10>]"
      ]
     },
     "execution_count": 40,
     "metadata": {},
     "output_type": "execute_result"
    },
    {
     "data": {
      "image/png": "[encoded data removed]",
      "text/plain": [
       "<Figure size 432x288 with 1 Axes>"
      ]
     },
     "metadata": {
      "needs_background": "light"
     },
     "output_type": "display_data"
    }
   ],
   "source": [
    "plt.plot(m,L)\n",
    "#R est quadratique idée à avoir toujours essayer de tracer les focntions qu'on veut minimiser\n",
    "#par le calcul en derivant R(m) on a que le minimum est atteint en rho le coeff de corélation \n"
   ]
  },
  {
   "cell_type": "code",
   "execution_count": 50,
   "metadata": {},
   "outputs": [],
   "source": [
    "#trouver la covariance par le minimum de la fonction \n",
    "indice = min(L)[1]\n",
    "cov1 = m[indice]"
   ]
  },
  {
   "cell_type": "code",
   "execution_count": 51,
   "metadata": {},
   "outputs": [
    {
     "data": {
      "text/plain": [
       "(0.8351437870311553, 0.8571428571428571)"
      ]
     },
     "execution_count": 51,
     "metadata": {},
     "output_type": "execute_result"
    }
   ],
   "source": [
    "cov,cov1\n",
    "#la différence provient certainement du nombre de point pris dans m, on choisira la première solution plus précise"
   ]
  },
  {
   "cell_type": "code",
   "execution_count": 58,
   "metadata": {},
   "outputs": [
    {
     "data": {
      "text/plain": [
       "<matplotlib.legend.Legend at 0x7b21b1c07b50>"
      ]
     },
     "execution_count": 58,
     "metadata": {},
     "output_type": "execute_result"
    },
    {
     "data": {
      "image/png": "[encoded data removed]",
      "text/plain": [
       "<Figure size 432x288 with 1 Axes>"
      ]
     },
     "metadata": {
      "needs_background": "light"
     },
     "output_type": "display_data"
    }
   ],
   "source": [
    "#verification de la droite regression linéaire y =rho*x correspond à ce que l'on veut \n",
    "#important a retenir pour tracer la regression lineaire, trouver Nx Ny, puis tracer y =cov(Nx,Ny)*x\n",
    "plt.scatter(x= T['NX'],y=T['NY'])\n",
    "x = np.linspace(-1.5,2)\n",
    "plt.plot(x, x*cov, label='covariance par calcul')\n",
    "plt.plot(x,x*cov1,label='covariance par recherche minimum')\n",
    "plt.xlabel('Normalisation des Nb de grizouilli de criquet')\n",
    "plt.ylabel('Normalisation des Températures')\n",
    "plt.title('Régression linéaire des temp/grizouilli normalisé')\n",
    "plt.legend()"
   ]
  },
  {
   "cell_type": "code",
   "execution_count": 64,
   "metadata": {},
   "outputs": [
    {
     "data": {
      "text/plain": [
       "<matplotlib.legend.Legend at 0x7b21b1e6b3d0>"
      ]
     },
     "execution_count": 64,
     "metadata": {},
     "output_type": "execute_result"
    },
    {
     "data": {
      "image/png": "[encoded data removed]",
      "text/plain": [
       "<Figure size 432x288 with 1 Axes>"
      ]
     },
     "metadata": {
      "needs_background": "light"
     },
     "output_type": "display_data"
    }
   ],
   "source": [
    "#par le calcul en remplaçant les vrais valeurs de la normalisation on a y = sy*rho/sx (x-mx) +my\n",
    "plt.scatter(x= T['X'],y=T['YCelsius'])\n",
    "x = np.linspace(14,20)\n",
    "plt.plot(x, (x-mX)*sY*cov/sX+mY, label='covariance par calcul')\n",
    "plt.plot(x,(x-mX)*sY*cov1/sX+mY,label='covariance par recherche minimum')\n",
    "plt.xlabel('Nb de grizouilli de criquet')\n",
    "plt.ylabel('Températures')\n",
    "plt.title('Régression linéaire des temp/grizouilli')\n",
    "plt.axvline(x = 19,color = 'gray')\n",
    "plt.axhline(y = 31,color = 'gray')\n",
    "plt.legend()"
   ]
  },
  {
   "cell_type": "code",
   "execution_count": 76,
   "metadata": {},
   "outputs": [],
   "source": [
    "a = sY*cov/sX\n",
    "b = mY-mX*a"
   ]
  },
  {
   "cell_type": "markdown",
   "metadata": {},
   "source": [
    "Ainsi on peut voir qu'il existe une corrélation positive entre la température et le nombre de grizouilli des criquets l'hypothèse ne semble pas fausse on peut envisager l'approximation ainsi si on entends 19 grizouilli par minutes, on peut envisager qu'il fasse 31 degrés celsius."
   ]
  },
  {
   "cell_type": "code",
   "execution_count": 80,
   "metadata": {},
   "outputs": [
    {
     "data": {
      "text/plain": [
       "(0.69746514501674, 0.6974651450167397)"
      ]
     },
     "execution_count": 80,
     "metadata": {},
     "output_type": "execute_result"
    }
   ],
   "source": [
    "#Calcul d'erreurs\n",
    "#pour approximier Yi à Ym on fait l'erreur :\n",
    "E1 = ((T['YCelsius']-mY)**2).sum()\n",
    "#erreur Yi par aXi +b\n",
    "E2 = ((T['YCelsius']-(a*T['X']+b))**2).sum()\n",
    "#on effectue une diminution de l'erreur d'un pourcentage de :\n",
    "dim = (E1-E2)/E1\n",
    "#ce qui est équivalent environ à rho**2 IMPORTANT A RETENIR AU LIEU APPROX Yi PAR YM ON APPROX PAR REG LIN\n",
    "dim, cov**2"
   ]
  },
  {
   "cell_type": "code",
   "execution_count": 81,
   "metadata": {},
   "outputs": [
    {
     "data": {
      "text/html": [
       "<div>\n",
       "<style scoped>\n",
       "    .dataframe tbody tr th:only-of-type {\n",
       "        vertical-align: middle;\n",
       "    }\n",
       "\n",
       "    .dataframe tbody tr th {\n",
       "        vertical-align: top;\n",
       "    }\n",
       "\n",
       "    .dataframe thead th {\n",
       "        text-align: right;\n",
       "    }\n",
       "</style>\n",
       "<table border=\"1\" class=\"dataframe\">\n",
       "  <thead>\n",
       "    <tr style=\"text-align: right;\">\n",
       "      <th>YCelsius</th>\n",
       "      <th>20.777779</th>\n",
       "      <th>20.944443</th>\n",
       "      <th>21.999999</th>\n",
       "      <th>23.999998</th>\n",
       "      <th>24.611113</th>\n",
       "      <th>26.444444</th>\n",
       "      <th>26.999999</th>\n",
       "      <th>27.777778</th>\n",
       "      <th>28.111110</th>\n",
       "      <th>28.500002</th>\n",
       "      <th>28.611111</th>\n",
       "      <th>29.055557</th>\n",
       "      <th>31.444444</th>\n",
       "      <th>34.055557</th>\n",
       "    </tr>\n",
       "    <tr>\n",
       "      <th>X</th>\n",
       "      <th></th>\n",
       "      <th></th>\n",
       "      <th></th>\n",
       "      <th></th>\n",
       "      <th></th>\n",
       "      <th></th>\n",
       "      <th></th>\n",
       "      <th></th>\n",
       "      <th></th>\n",
       "      <th></th>\n",
       "      <th></th>\n",
       "      <th></th>\n",
       "      <th></th>\n",
       "      <th></th>\n",
       "    </tr>\n",
       "  </thead>\n",
       "  <tbody>\n",
       "    <tr>\n",
       "      <th>14.400000</th>\n",
       "      <td>0</td>\n",
       "      <td>0</td>\n",
       "      <td>0</td>\n",
       "      <td>0</td>\n",
       "      <td>1</td>\n",
       "      <td>0</td>\n",
       "      <td>0</td>\n",
       "      <td>0</td>\n",
       "      <td>0</td>\n",
       "      <td>0</td>\n",
       "      <td>0</td>\n",
       "      <td>0</td>\n",
       "      <td>0</td>\n",
       "      <td>0</td>\n",
       "    </tr>\n",
       "    <tr>\n",
       "      <th>14.700000</th>\n",
       "      <td>0</td>\n",
       "      <td>1</td>\n",
       "      <td>0</td>\n",
       "      <td>0</td>\n",
       "      <td>0</td>\n",
       "      <td>0</td>\n",
       "      <td>0</td>\n",
       "      <td>0</td>\n",
       "      <td>0</td>\n",
       "      <td>0</td>\n",
       "      <td>0</td>\n",
       "      <td>0</td>\n",
       "      <td>0</td>\n",
       "      <td>0</td>\n",
       "    </tr>\n",
       "    <tr>\n",
       "      <th>15.000000</th>\n",
       "      <td>0</td>\n",
       "      <td>0</td>\n",
       "      <td>0</td>\n",
       "      <td>0</td>\n",
       "      <td>0</td>\n",
       "      <td>1</td>\n",
       "      <td>0</td>\n",
       "      <td>0</td>\n",
       "      <td>0</td>\n",
       "      <td>0</td>\n",
       "      <td>0</td>\n",
       "      <td>0</td>\n",
       "      <td>0</td>\n",
       "      <td>0</td>\n",
       "    </tr>\n",
       "    <tr>\n",
       "      <th>15.400000</th>\n",
       "      <td>1</td>\n",
       "      <td>0</td>\n",
       "      <td>0</td>\n",
       "      <td>0</td>\n",
       "      <td>0</td>\n",
       "      <td>0</td>\n",
       "      <td>0</td>\n",
       "      <td>0</td>\n",
       "      <td>0</td>\n",
       "      <td>0</td>\n",
       "      <td>0</td>\n",
       "      <td>0</td>\n",
       "      <td>0</td>\n",
       "      <td>0</td>\n",
       "    </tr>\n",
       "    <tr>\n",
       "      <th>15.500000</th>\n",
       "      <td>0</td>\n",
       "      <td>0</td>\n",
       "      <td>0</td>\n",
       "      <td>1</td>\n",
       "      <td>0</td>\n",
       "      <td>0</td>\n",
       "      <td>0</td>\n",
       "      <td>0</td>\n",
       "      <td>0</td>\n",
       "      <td>0</td>\n",
       "      <td>0</td>\n",
       "      <td>0</td>\n",
       "      <td>0</td>\n",
       "      <td>0</td>\n",
       "    </tr>\n",
       "    <tr>\n",
       "      <th>16.000000</th>\n",
       "      <td>0</td>\n",
       "      <td>0</td>\n",
       "      <td>1</td>\n",
       "      <td>0</td>\n",
       "      <td>0</td>\n",
       "      <td>0</td>\n",
       "      <td>1</td>\n",
       "      <td>0</td>\n",
       "      <td>0</td>\n",
       "      <td>0</td>\n",
       "      <td>0</td>\n",
       "      <td>0</td>\n",
       "      <td>0</td>\n",
       "      <td>0</td>\n",
       "    </tr>\n",
       "    <tr>\n",
       "      <th>16.200001</th>\n",
       "      <td>0</td>\n",
       "      <td>0</td>\n",
       "      <td>0</td>\n",
       "      <td>0</td>\n",
       "      <td>0</td>\n",
       "      <td>0</td>\n",
       "      <td>0</td>\n",
       "      <td>0</td>\n",
       "      <td>0</td>\n",
       "      <td>1</td>\n",
       "      <td>0</td>\n",
       "      <td>0</td>\n",
       "      <td>0</td>\n",
       "      <td>0</td>\n",
       "    </tr>\n",
       "    <tr>\n",
       "      <th>17.000000</th>\n",
       "      <td>0</td>\n",
       "      <td>0</td>\n",
       "      <td>0</td>\n",
       "      <td>0</td>\n",
       "      <td>0</td>\n",
       "      <td>0</td>\n",
       "      <td>0</td>\n",
       "      <td>0</td>\n",
       "      <td>0</td>\n",
       "      <td>0</td>\n",
       "      <td>1</td>\n",
       "      <td>0</td>\n",
       "      <td>0</td>\n",
       "      <td>0</td>\n",
       "    </tr>\n",
       "    <tr>\n",
       "      <th>17.100000</th>\n",
       "      <td>0</td>\n",
       "      <td>0</td>\n",
       "      <td>0</td>\n",
       "      <td>0</td>\n",
       "      <td>0</td>\n",
       "      <td>0</td>\n",
       "      <td>1</td>\n",
       "      <td>1</td>\n",
       "      <td>0</td>\n",
       "      <td>0</td>\n",
       "      <td>0</td>\n",
       "      <td>0</td>\n",
       "      <td>0</td>\n",
       "      <td>0</td>\n",
       "    </tr>\n",
       "    <tr>\n",
       "      <th>17.200001</th>\n",
       "      <td>0</td>\n",
       "      <td>0</td>\n",
       "      <td>0</td>\n",
       "      <td>0</td>\n",
       "      <td>0</td>\n",
       "      <td>0</td>\n",
       "      <td>0</td>\n",
       "      <td>0</td>\n",
       "      <td>1</td>\n",
       "      <td>0</td>\n",
       "      <td>0</td>\n",
       "      <td>0</td>\n",
       "      <td>0</td>\n",
       "      <td>0</td>\n",
       "    </tr>\n",
       "    <tr>\n",
       "      <th>18.400000</th>\n",
       "      <td>0</td>\n",
       "      <td>0</td>\n",
       "      <td>0</td>\n",
       "      <td>0</td>\n",
       "      <td>0</td>\n",
       "      <td>0</td>\n",
       "      <td>0</td>\n",
       "      <td>0</td>\n",
       "      <td>0</td>\n",
       "      <td>0</td>\n",
       "      <td>0</td>\n",
       "      <td>1</td>\n",
       "      <td>0</td>\n",
       "      <td>0</td>\n",
       "    </tr>\n",
       "    <tr>\n",
       "      <th>19.799999</th>\n",
       "      <td>0</td>\n",
       "      <td>0</td>\n",
       "      <td>0</td>\n",
       "      <td>0</td>\n",
       "      <td>0</td>\n",
       "      <td>0</td>\n",
       "      <td>0</td>\n",
       "      <td>0</td>\n",
       "      <td>0</td>\n",
       "      <td>0</td>\n",
       "      <td>0</td>\n",
       "      <td>0</td>\n",
       "      <td>0</td>\n",
       "      <td>1</td>\n",
       "    </tr>\n",
       "    <tr>\n",
       "      <th>20.000000</th>\n",
       "      <td>0</td>\n",
       "      <td>0</td>\n",
       "      <td>0</td>\n",
       "      <td>0</td>\n",
       "      <td>0</td>\n",
       "      <td>0</td>\n",
       "      <td>0</td>\n",
       "      <td>0</td>\n",
       "      <td>0</td>\n",
       "      <td>0</td>\n",
       "      <td>0</td>\n",
       "      <td>0</td>\n",
       "      <td>1</td>\n",
       "      <td>0</td>\n",
       "    </tr>\n",
       "  </tbody>\n",
       "</table>\n",
       "</div>"
      ],
      "text/plain": [
       "YCelsius   20.777779  20.944443  21.999999  23.999998  24.611113  26.444444  \\\n",
       "X                                                                             \n",
       "14.400000          0          0          0          0          1          0   \n",
       "14.700000          0          1          0          0          0          0   \n",
       "15.000000          0          0          0          0          0          1   \n",
       "15.400000          1          0          0          0          0          0   \n",
       "15.500000          0          0          0          1          0          0   \n",
       "16.000000          0          0          1          0          0          0   \n",
       "16.200001          0          0          0          0          0          0   \n",
       "17.000000          0          0          0          0          0          0   \n",
       "17.100000          0          0          0          0          0          0   \n",
       "17.200001          0          0          0          0          0          0   \n",
       "18.400000          0          0          0          0          0          0   \n",
       "19.799999          0          0          0          0          0          0   \n",
       "20.000000          0          0          0          0          0          0   \n",
       "\n",
       "YCelsius   26.999999  27.777778  28.111110  28.500002  28.611111  29.055557  \\\n",
       "X                                                                             \n",
       "14.400000          0          0          0          0          0          0   \n",
       "14.700000          0          0          0          0          0          0   \n",
       "15.000000          0          0          0          0          0          0   \n",
       "15.400000          0          0          0          0          0          0   \n",
       "15.500000          0          0          0          0          0          0   \n",
       "16.000000          1          0          0          0          0          0   \n",
       "16.200001          0          0          0          1          0          0   \n",
       "17.000000          0          0          0          0          1          0   \n",
       "17.100000          1          1          0          0          0          0   \n",
       "17.200001          0          0          1          0          0          0   \n",
       "18.400000          0          0          0          0          0          1   \n",
       "19.799999          0          0          0          0          0          0   \n",
       "20.000000          0          0          0          0          0          0   \n",
       "\n",
       "YCelsius   31.444444  34.055557  \n",
       "X                                \n",
       "14.400000          0          0  \n",
       "14.700000          0          0  \n",
       "15.000000          0          0  \n",
       "15.400000          0          0  \n",
       "15.500000          0          0  \n",
       "16.000000          0          0  \n",
       "16.200001          0          0  \n",
       "17.000000          0          0  \n",
       "17.100000          0          0  \n",
       "17.200001          0          0  \n",
       "18.400000          0          0  \n",
       "19.799999          0          1  \n",
       "20.000000          1          0  "
      ]
     },
     "execution_count": 81,
     "metadata": {},
     "output_type": "execute_result"
    }
   ],
   "source": [
    "pa.crosstab(T['X'],T['YCelsius'])"
   ]
  },
  {
   "cell_type": "markdown",
   "metadata": {},
   "source": [
    "AINSI ON RETIENDRA QUE ON DIMINUE PAR APPROX REG LIN LAPPROX BASIQUE PAR LA MOYENNE DE RHO**2 ET POUR QUE LA REGRESSION LINEAIRE APPROXIME AU MIEU, IL VAUT MIEUX QUE RHO**2 SOIT PROCHE DE 1 (qualité si abs(rho) supérieur à 0.7)\n",
    "CETTE APPROX REG LIN EST PERTINENTE QUE SI LE NUAGE DE POINT EST LINEAIRE"
   ]
  },
  {
   "cell_type": "code",
   "execution_count": 84,
   "metadata": {},
   "outputs": [
    {
     "data": {
      "text/plain": [
       "<matplotlib.axes._subplots.AxesSubplot at 0x7b21af6895d0>"
      ]
     },
     "execution_count": 84,
     "metadata": {},
     "output_type": "execute_result"
    },
    {
     "data": {
      "image/png": "[encoded data removed]",
      "text/plain": [
       "<Figure size 432x288 with 1 Axes>"
      ]
     },
     "metadata": {
      "needs_background": "light"
     },
     "output_type": "display_data"
    }
   ],
   "source": [
    "#Remarque en fait on peut le faire direct avec le module seaborn \n",
    "sn.regplot(x=\"X\",y = \"YCelsius\", data = T, ci=95)"
   ]
  },
  {
   "cell_type": "code",
   "execution_count": null,
   "metadata": {},
   "outputs": [],
   "source": []
  }
 ],
 "metadata": {
  "kernelspec": {
   "display_name": "Python 3",
   "language": "python",
   "name": "python3"
  },
  "language_info": {
   "codemirror_mode": {
    "name": "ipython",
    "version": 3
   },
   "file_extension": ".py",
   "mimetype": "text/x-python",
   "name": "python",
   "nbconvert_exporter": "python",
   "pygments_lexer": "ipython3",
   "version": "3.7.6"
  }
 },
 "nbformat": 4,
 "nbformat_minor": 5
}
